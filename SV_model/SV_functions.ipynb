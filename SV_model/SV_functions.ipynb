{
 "cells": [
  {
   "cell_type": "code",
   "execution_count": 8,
   "metadata": {
    "collapsed": true
   },
   "outputs": [],
   "source": [
    "# Calling libraries:\n",
    "from __future__ import division\n",
    "%matplotlib inline\n",
    "import numpy as np\n",
    "import time\n",
    "from scipy.stats import norm, uniform, bernoulli\n",
    "from scipy.linalg import sqrtm \n",
    "from pylab import plot, show, legend\n",
    "import matplotlib.pyplot as plt\n",
    "import math \n",
    "import scipy\n",
    "plt.rcParams['figure.figsize'] = (15.0, 3.0)\n",
    "int = np.vectorize(int)"
   ]
  },
  {
   "cell_type": "markdown",
   "metadata": {},
   "source": [
    "* $X_0 = 0$, $X_n = a X_{n-1} + \\mathcal{N}(0,\\sigma^2)$. \n",
    "\n",
    "* $Y_n \\sim \\mathcal{N}(0,\\epsilon^2 e^{X_n})$.\n",
    "\n",
    "* $ \\theta = (a, \\sigma, \\epsilon)$. \n",
    "\n",
    "* $ |a| < 1$, $\\sigma > 0$, $\\epsilon > 0$. "
   ]
  },
  {
   "cell_type": "code",
   "execution_count": 38,
   "metadata": {
    "collapsed": true
   },
   "outputs": [],
   "source": [
    "def simulate_data(theta,x_0,T) :\n",
    "    X = x_0\n",
    "    y = np.zeros(T)\n",
    "    for t in range(T) :\n",
    "        X    = theta[0]*X + theta[1]*np.random.randn(1)\n",
    "        y[t] = theta[2]*np.exp(X/2)*np.random.randn(1)\n",
    "    return y"
   ]
  },
  {
   "cell_type": "code",
   "execution_count": 10,
   "metadata": {
    "collapsed": true
   },
   "outputs": [],
   "source": [
    "def potential(y,X,epsilon) :\n",
    "    return norm.pdf(x=y,loc=0,scale=epsilon*np.exp(X/2))"
   ]
  },
  {
   "cell_type": "markdown",
   "metadata": {},
   "source": [
    "### Bootstrap particle filter:\n",
    "\n",
    "* Resample at every time step."
   ]
  },
  {
   "cell_type": "code",
   "execution_count": 51,
   "metadata": {
    "collapsed": true
   },
   "outputs": [],
   "source": [
    "def bootstrap_PF(n_particles,theta,x_0,y,potential,test_function) :\n",
    "    \n",
    "    scipy.random.seed()\n",
    "    \n",
    "    T = len(y)\n",
    "    particles    = np.zeros(n_particles)\n",
    "    particles[:] = x_0\n",
    "    log_NC       = np.zeros(T+1)\n",
    "    particles    = theta[0]*particles + theta[1]*np.random.randn(n_particles)\n",
    "    test_function_estimate = np.zeros(T)\n",
    "\n",
    "    for t in range(T) :\n",
    "        weights     = potential(particles,y[t],theta[2]) / n_particles\n",
    "        log_NC[t+1] = log_NC[t] + np.log(np.sum(weights))\n",
    "        particles   = particles[np.random.choice(a=n_particles,size=n_particles,replace=True,p=weights/np.sum(weights))]\n",
    "        particles   = theta[0]*particles + theta[1]*np.random.randn(n_particles)\n",
    "        \n",
    "        test_function_estimate[t] = np.mean(test_function(particles))\n",
    "        \n",
    "    return log_NC[1::], test_function_estimate"
   ]
  },
  {
   "cell_type": "markdown",
   "metadata": {},
   "source": [
    "### $\\alpha$SMC with random connections:"
   ]
  },
  {
   "cell_type": "code",
   "execution_count": 61,
   "metadata": {
    "collapsed": true
   },
   "outputs": [],
   "source": [
    "def alphaSMC_random(n_particles,theta,x_0,y,n_connections,potential,test_function) :\n",
    "    \n",
    "    scipy.random.seed()\n",
    "    \n",
    "    T = len(y)\n",
    "    particles       = np.zeros((n_particles,1))\n",
    "    particles[:,0]  = x_0\n",
    "    weights         = np.ones(n_particles)\n",
    "    log_NC          = np.zeros(T)\n",
    "    particles[:,0]  = theta[0]*particles[:,0] + theta[1]*np.random.randn(n_particles)\n",
    "    test_function_estimate = np.zeros(T)\n",
    "    \n",
    "    W = np.ones(n_particles)\n",
    "    w = np.ones(n_particles)\n",
    "    normalized_weights = np.ones(n_particles) \n",
    "    resampled_index = [1]*n_particles\n",
    "\n",
    "    for t in range(T) :\n",
    "        w[:] = weights * potential( particles[:,0], y[t], theta[2] )\n",
    "        for particle in range(n_particles) :\n",
    "            connections = np.random.choice(a=n_particles,size=n_connections,replace=False)\n",
    "            W[particle] = np.mean(w[connections])\n",
    "            resampled_index[particle] = np.random.choice(a=connections,p=w[connections]/np.sum(w[connections]))\n",
    "        particles[:,0] = particles[resampled_index,0]\n",
    "        weights[:]     = W\n",
    "        log_NC[t]      = np.log(np.mean(weights))\n",
    "        particles[:,0] = theta[0]*particles[:,0] + theta[1]*np.random.randn(n_particles)\n",
    "        normalized_weights[:] = weights/np.sum(weights)\n",
    "        \n",
    "        test_function_estimate[t] = np.sum(normalized_weights*test_function(particles[:,0]))\n",
    "    \n",
    "    return log_NC, test_function_estimate"
   ]
  },
  {
   "cell_type": "code",
   "execution_count": null,
   "metadata": {
    "collapsed": true
   },
   "outputs": [],
   "source": []
  }
 ],
 "metadata": {
  "kernelspec": {
   "display_name": "Python 3",
   "language": "python",
   "name": "python3"
  },
  "language_info": {
   "codemirror_mode": {
    "name": "ipython",
    "version": 3
   },
   "file_extension": ".py",
   "mimetype": "text/x-python",
   "name": "python",
   "nbconvert_exporter": "python",
   "pygments_lexer": "ipython3",
   "version": "3.4.3"
  }
 },
 "nbformat": 4,
 "nbformat_minor": 0
}
