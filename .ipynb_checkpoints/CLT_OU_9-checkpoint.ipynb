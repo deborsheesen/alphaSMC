{
 "cells": [
  {
   "cell_type": "code",
   "execution_count": 1,
   "metadata": {
    "collapsed": true
   },
   "outputs": [],
   "source": [
    "from __future__ import division\n",
    "%matplotlib inline\n",
    "from mpl_toolkits.mplot3d import Axes3D\n",
    "import numpy as np,  matplotlib.pyplot as plt, gc, math\n",
    "from time import time\n",
    "from pylab import plot, show, legend\n",
    "from PF import *\n",
    "from OU import *\n",
    "plt.rcParams['figure.figsize'] = (15.0, 3.0)"
   ]
  },
  {
   "cell_type": "code",
   "execution_count": 2,
   "metadata": {
    "collapsed": true
   },
   "outputs": [],
   "source": [
    "x_0 = np.asarray([0])\n",
    "theta = [0.5, 1, 1, 0.2, 1]\n",
    "T = 100\n",
    "y = np.load(\"data/y_OU.npy\")\n",
    "x_0 = np.load(\"data/x_0_OU.npy\")\n",
    "data = dict(x_0=x_0, y=y)\n",
    "def test_fn(x) : return x\n",
    "propagate, potential = propagate_OU, potential_OU"
   ]
  },
  {
   "cell_type": "code",
   "execution_count": null,
   "metadata": {},
   "outputs": [
    {
     "name": "stderr",
     "output_type": "stream",
     "text": [
      "\r",
      "  0%|          | 0/1 [00:00<?, ?it/s]"
     ]
    }
   ],
   "source": [
    "pow_list = np.arange(10,12)\n",
    "d_list = 20*np.arange(1,6)\n",
    "N_list = 2**pow_list\n",
    "rep = 1\n",
    "logNC_bpf, testfn_bpf = np.zeros((len(N_list),rep)), np.zeros((len(N_list),rep))\n",
    "logNC_airpf, testfn_airpf = np.zeros((len(N_list),rep)), np.zeros((len(N_list),rep))\n",
    "logNC_alpha, testfn_alpha = np.zeros((len(N_list),len(d_list),rep)), np.zeros((len(N_list),len(d_list),rep))\n",
    "for r in trange(rep) :\n",
    "    for (i,N) in enumerate(N_list) :\n",
    "        #Bootstrap PF:\n",
    "        logNC, testfn, _ = bootstrap_PF(data, theta, potential, propagate, test_fn, N, store_paths=False)\n",
    "        logNC_bpf[i,r], testfn_bpf[i,r] = logNC[-1], testfn[-1]\n",
    "        #AIRPF:\n",
    "        A = A_(int(math.log(N,2)))\n",
    "        logNC, testfn, _ = AIRPF(data, theta, potential, propagate, test_fn, A, store_paths=False)\n",
    "        logNC_airpf[i,r], testfn_airpf[i,r] = logNC[-1], testfn[-1]\n",
    "        #alpha SMC:\n",
    "        for (j,d) in enumerate(d_list) :\n",
    "            logNC, testfn = alphaSMC(data, theta, potential, propagate, test_fn, N, d, \"random\")\n",
    "            logNC_alpha[i,j,r], testfn_alpha[i,j,r] = logNC[-1], testfn[-1]\n",
    "        del logNC, testfn, _\n",
    "        gc.collect()"
   ]
  },
  {
   "cell_type": "code",
   "execution_count": 4,
   "metadata": {},
   "outputs": [
    {
     "name": "stdout",
     "output_type": "stream",
     "text": [
      "136.0006194114685\n"
     ]
    }
   ],
   "source": [
    "N = 2**12\n",
    "A = A_(int(math.log(N,2)))\n",
    "start = time()\n",
    "logNC, testfn, _ = AIRPF(data, theta, potential, propagate, test_fn, A, store_paths=False)\n",
    "print(time()-start)"
   ]
  },
  {
   "cell_type": "code",
   "execution_count": 10,
   "metadata": {},
   "outputs": [
    {
     "data": {
      "text/plain": [
       "18.133333333333333"
      ]
     },
     "execution_count": 10,
     "metadata": {},
     "output_type": "execute_result"
    }
   ],
   "source": [
    "136*2**3/60"
   ]
  },
  {
   "cell_type": "code",
   "execution_count": 11,
   "metadata": {},
   "outputs": [
    {
     "name": "stdout",
     "output_type": "stream",
     "text": [
      "374.1103346347809\n"
     ]
    }
   ],
   "source": [
    "start = time()\n",
    "for d in 20*np.arange(1,6) :\n",
    "    alphaSMC(data, theta, potential, propagate, test_fn, N, d, \"random\")\n",
    "print(time()-start)"
   ]
  },
  {
   "cell_type": "code",
   "execution_count": 13,
   "metadata": {},
   "outputs": [
    {
     "data": {
      "text/plain": [
       "49.6"
      ]
     },
     "execution_count": 13,
     "metadata": {},
     "output_type": "execute_result"
    }
   ],
   "source": [
    "6.2*8"
   ]
  },
  {
   "cell_type": "code",
   "execution_count": null,
   "metadata": {
    "collapsed": true
   },
   "outputs": [],
   "source": []
  },
  {
   "cell_type": "code",
   "execution_count": null,
   "metadata": {
    "collapsed": true
   },
   "outputs": [],
   "source": [
    "plt.rcParams['figure.figsize'] = (5.0, 4.0)\n",
    "fig, ax = plt.subplots()\n",
    "ax.set_xscale('log', basex=2)\n",
    "ax.plot(N_list, np.sqrt(N_list)*np.std(logNC,1), \"o-\", label=\"empirical variance\")\n",
    "# ax.plot(N_list, 10/np.sqrt(N_list), label=\"Theory\")\n",
    "plt.grid(\"True\")\n",
    "plt.legend()\n",
    "plt.xlabel(\"N\")\n",
    "plt.ylabel(\"Variance\");"
   ]
  },
  {
   "cell_type": "code",
   "execution_count": 5,
   "metadata": {},
   "outputs": [
    {
     "data": {
      "text/plain": [
       "array([ 20,  40,  60,  80, 100])"
      ]
     },
     "execution_count": 5,
     "metadata": {},
     "output_type": "execute_result"
    }
   ],
   "source": [
    "20*np.arange(1,6)"
   ]
  },
  {
   "cell_type": "code",
   "execution_count": 9,
   "metadata": {},
   "outputs": [
    {
     "data": {
      "text/plain": [
       "10"
      ]
     },
     "execution_count": 9,
     "metadata": {},
     "output_type": "execute_result"
    }
   ],
   "source": [
    "int(math.log(2**10,2))"
   ]
  },
  {
   "cell_type": "code",
   "execution_count": null,
   "metadata": {
    "collapsed": true
   },
   "outputs": [],
   "source": []
  }
 ],
 "metadata": {
  "kernelspec": {
   "display_name": "Python 3",
   "language": "python",
   "name": "python3"
  },
  "language_info": {
   "codemirror_mode": {
    "name": "ipython",
    "version": 3
   },
   "file_extension": ".py",
   "mimetype": "text/x-python",
   "name": "python",
   "nbconvert_exporter": "python",
   "pygments_lexer": "ipython3",
   "version": "3.6.2"
  }
 },
 "nbformat": 4,
 "nbformat_minor": 2
}
