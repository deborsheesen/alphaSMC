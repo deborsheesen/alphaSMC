{
 "cells": [
  {
   "cell_type": "code",
   "execution_count": 1,
   "metadata": {
    "collapsed": true
   },
   "outputs": [],
   "source": [
    "# Calling libraries:\n",
    "from __future__ import division\n",
    "%matplotlib inline\n",
    "import numpy as np,  matplotlib.pyplot as plt, sys, scipy\n",
    "from time import time\n",
    "from pylab import plot, show, legend\n",
    "sys.path.append('/home/postdoc/dsen/Desktop/alphaSMC')\n",
    "from PF import *\n",
    "sys.path.append('/home/postdoc/dsen/Desktop/alphaSMC/SV_model')\n",
    "from SV import *\n",
    "sys.path.append('/home/postdoc/dsen/Desktop/alphaSMC/OU_model')\n",
    "from OU import *\n",
    "plt.rcParams['figure.figsize'] = (15.0, 3.0)"
   ]
  },
  {
   "cell_type": "code",
   "execution_count": 2,
   "metadata": {
    "collapsed": true
   },
   "outputs": [],
   "source": [
    "def test_fn(x) : return x"
   ]
  },
  {
   "cell_type": "markdown",
   "metadata": {},
   "source": [
    "### Stochastic volatility model:"
   ]
  },
  {
   "cell_type": "code",
   "execution_count": 3,
   "metadata": {
    "collapsed": true
   },
   "outputs": [],
   "source": [
    "x_0 = np.asarray([0])\n",
    "theta_SV = [0.9, 0.25, 0.25]\n",
    "T = 1000\n",
    "y_SV, _ = simulate_data_SV(theta_SV, x_0, T)\n",
    "data_SV = dict(x_0=x_0, y=y_SV)"
   ]
  },
  {
   "cell_type": "code",
   "execution_count": 4,
   "metadata": {},
   "outputs": [
    {
     "name": "stdout",
     "output_type": "stream",
     "text": [
      "0.3 seconds\n",
      "66.5 seconds\n",
      "9.4 seconds\n",
      "23.1 seconds\n",
      "[-70.53  10.1    9.29  10.3 ]\n"
     ]
    }
   ],
   "source": [
    "data, theta, potential, propagate = data_SV, theta_SV, potential_SV, propagate_SV\n",
    "N = 10**3\n",
    "C = 51\n",
    "\n",
    "start = time()\n",
    "log_NC_b, test_fn_est_b, _ = bootstrap_PF(data, theta, potential, propagate, test_fn, N, store_paths=False)\n",
    "print(round(time() - start, 1), \"seconds\")\n",
    "\n",
    "start = time()\n",
    "log_NC_a, test_fn_est_a = alphaSMC_random(data, theta, potential, propagate, test_fn, N, C)\n",
    "print(round(time() - start, 1), \"seconds\")\n",
    "\n",
    "alpha = d_regular_graph(N, C)\n",
    "start = time()\n",
    "log_NC_a1, test_fn_est_a1 = alphaSMC(data, theta, potential, propagate, test_fn, alpha, permute_alpha=False)\n",
    "print(round(time() - start, 1), \"seconds\")\n",
    "\n",
    "start = time()\n",
    "log_NC_aa1, test_fn_est_aa1 = alphaSMC(data, theta, potential, propagate, test_fn, alpha, permute_alpha=True)\n",
    "print(round(time() - start, 1), \"seconds\")\n",
    "\n",
    "print(np.round([log_NC_b[-1], log_NC_a[-1], log_NC_a1[-1], log_NC_aa1[-1]], 2))"
   ]
  },
  {
   "cell_type": "markdown",
   "metadata": {},
   "source": [
    "### Ornstein–Uhlenbeck process:"
   ]
  },
  {
   "cell_type": "code",
   "execution_count": 5,
   "metadata": {
    "collapsed": true
   },
   "outputs": [],
   "source": [
    "theta_OU = [0.5, 1, 1, 0.5, 1]\n",
    "x_0 = np.asarray([0])\n",
    "T = 500\n",
    "y_OU, _ = simulate_data_OU(theta_OU, x_0, T)\n",
    "data_OU = dict(x_0=x_0, y=y_OU)"
   ]
  },
  {
   "cell_type": "code",
   "execution_count": 6,
   "metadata": {},
   "outputs": [
    {
     "name": "stdout",
     "output_type": "stream",
     "text": [
      "0.2 seconds\n"
     ]
    },
    {
     "name": "stderr",
     "output_type": "stream",
     "text": [
      "/home/postdoc/dsen/Desktop/alphaSMC/PF.py:98: RuntimeWarning: divide by zero encountered in log\n",
      "  log_NC[t+1] = np.log(np.mean(weights))\n",
      "/home/postdoc/dsen/Desktop/alphaSMC/PF.py:95: RuntimeWarning: invalid value encountered in true_divide\n",
      "  resampled_idx[particle] = npr.choice(a=connections, p=weights[connections]/np.sum(weights[connections]))\n",
      "/home/postdoc/dsen/Desktop/alphaSMC/PF.py:95: RuntimeWarning: invalid value encountered in less\n",
      "  resampled_idx[particle] = npr.choice(a=connections, p=weights[connections]/np.sum(weights[connections]))\n",
      "/home/postdoc/dsen/Desktop/alphaSMC/PF.py:100: RuntimeWarning: invalid value encountered in double_scalars\n",
      "  test_fn_est[t] = np.sum(weights*test_fn(particles))/np.sum(weights)\n"
     ]
    },
    {
     "name": "stdout",
     "output_type": "stream",
     "text": [
      "34.3 seconds\n",
      "4.5 seconds\n",
      "11.2 seconds\n",
      "[-771.03    -inf -773.34 -774.41]\n"
     ]
    }
   ],
   "source": [
    "data, theta, potential, propagate = data_OU, theta_OU, potential_OU, propagate_OU\n",
    "N = 2000\n",
    "C = 51\n",
    "\n",
    "start = time()\n",
    "log_NC_b, test_fn_est_b, _ = bootstrap_PF(data, theta, potential, propagate, test_fn, N, store_paths=False)\n",
    "print(round(time() - start, 1), \"seconds\")\n",
    "\n",
    "start = time()\n",
    "log_NC_a, test_fn_est_a = alphaSMC_random(data, theta, potential, propagate, test_fn, N, C)\n",
    "print(round(time() - start, 1), \"seconds\")\n",
    "\n",
    "alpha = d_regular_graph(N, C)\n",
    "start = time()\n",
    "log_NC_a1, test_fn_est_a1 = alphaSMC(data, theta, potential, propagate, test_fn, alpha, permute_alpha=False)\n",
    "print(round(time() - start, 1), \"seconds\")\n",
    "\n",
    "start = time()\n",
    "log_NC_aa1, test_fn_est_aa1 = alphaSMC(data, theta, potential, propagate, test_fn, alpha, permute_alpha=True)\n",
    "print(round(time() - start, 1), \"seconds\")\n",
    "\n",
    "print(np.round([log_NC_b[-1], log_NC_a[-1], log_NC_a1[-1], log_NC_aa1[-1]], 2))"
   ]
  },
  {
   "cell_type": "code",
   "execution_count": 7,
   "metadata": {},
   "outputs": [
    {
     "data": {
      "text/plain": [
       "array([-771.03,    -inf, -773.34, -774.41])"
      ]
     },
     "execution_count": 7,
     "metadata": {},
     "output_type": "execute_result"
    }
   ],
   "source": [
    "np.round([log_NC_b[-1], log_NC_a[-1], log_NC_a1[-1], log_NC_aa1[-1]], 2)"
   ]
  },
  {
   "cell_type": "code",
   "execution_count": null,
   "metadata": {
    "collapsed": true
   },
   "outputs": [],
   "source": []
  },
  {
   "cell_type": "code",
   "execution_count": null,
   "metadata": {
    "collapsed": true
   },
   "outputs": [],
   "source": []
  }
 ],
 "metadata": {
  "kernelspec": {
   "display_name": "Python 3",
   "language": "python",
   "name": "python3"
  },
  "language_info": {
   "codemirror_mode": {
    "name": "ipython",
    "version": 3
   },
   "file_extension": ".py",
   "mimetype": "text/x-python",
   "name": "python",
   "nbconvert_exporter": "python",
   "pygments_lexer": "ipython3",
   "version": "3.6.2"
  }
 },
 "nbformat": 4,
 "nbformat_minor": 2
}
