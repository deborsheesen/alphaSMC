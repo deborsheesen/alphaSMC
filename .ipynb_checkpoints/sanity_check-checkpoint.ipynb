{
 "cells": [
  {
   "cell_type": "code",
   "execution_count": 1,
   "metadata": {
    "collapsed": true
   },
   "outputs": [],
   "source": [
    "# Calling libraries:\n",
    "from __future__ import division\n",
    "%matplotlib inline\n",
    "import numpy as np,  matplotlib.pyplot as plt\n",
    "from time import time\n",
    "from pylab import plot, show, legend\n",
    "from PF import *\n",
    "from SV import *\n",
    "from OU import *\n",
    "plt.rcParams['figure.figsize'] = (15.0, 3.0)"
   ]
  },
  {
   "cell_type": "code",
   "execution_count": 2,
   "metadata": {
    "collapsed": true
   },
   "outputs": [],
   "source": [
    "def test_fn(x) : \n",
    "    return x"
   ]
  },
  {
   "cell_type": "code",
   "execution_count": 3,
   "metadata": {
    "collapsed": true
   },
   "outputs": [],
   "source": [
    "x_0 = np.asarray([0])\n",
    "theta_SV = [0.9, 0.25, 0.1]\n",
    "T = 1000\n",
    "y_SV = simulate_data_SV(theta_SV, x_0, T)\n",
    "data_SV = dict(x_0=x_0, y=y_SV)"
   ]
  },
  {
   "cell_type": "code",
   "execution_count": 4,
   "metadata": {},
   "outputs": [
    {
     "name": "stdout",
     "output_type": "stream",
     "text": [
      "0.3 seconds\n",
      "7.8 seconds\n",
      "36.0 seconds\n",
      "65.0 seconds\n"
     ]
    }
   ],
   "source": [
    "N = 10**3\n",
    "\n",
    "start = time()\n",
    "log_NC_b, test_fn_est_b = bootstrap_PF(data_SV, theta_SV, potential_SV, propagate_SV, test_fn, N)\n",
    "print(round(time() - start, 1), \"seconds\")\n",
    "\n",
    "C = 10\n",
    "alpha = d_regular_graph(N, C)\n",
    "start = time()\n",
    "log_NC_aa, test_fn_est_aa = alphaSMC(data_SV, theta_SV, potential_SV, propagate_SV, test_fn, N, C, alpha)\n",
    "print(round(time() - start, 1), \"seconds\")\n",
    "\n",
    "start = time()\n",
    "log_NC_aa1, test_fn_est_aa1 = alphaSMC(data_SV, theta_SV, potential_SV, propagate_SV, test_fn, N, C, \"random\")\n",
    "print(round(time() - start, 1), \"seconds\")\n",
    "\n",
    "start = time()\n",
    "log_NC_a, test_fn_est_a = alphaSMC_random(data_SV, theta_SV, potential_SV, propagate_SV, test_fn, N, C)\n",
    "print(round(time() - start, 1), \"seconds\")"
   ]
  },
  {
   "cell_type": "code",
   "execution_count": 5,
   "metadata": {},
   "outputs": [
    {
     "data": {
      "text/plain": [
       "array([346.21, 345.67, 347.82, 344.37])"
      ]
     },
     "execution_count": 5,
     "metadata": {},
     "output_type": "execute_result"
    }
   ],
   "source": [
    "np.round([log_NC_b[-1], log_NC_a[-1], log_NC_aa[-1], log_NC_aa1[-1]], 2)"
   ]
  },
  {
   "cell_type": "code",
   "execution_count": 6,
   "metadata": {},
   "outputs": [
    {
     "data": {
      "text/plain": [
       "array([ 1.000e-02,  1.628e+01, -9.340e+00, -2.800e-01])"
      ]
     },
     "execution_count": 6,
     "metadata": {},
     "output_type": "execute_result"
    }
   ],
   "source": [
    "np.round([test_fn_est_b[-1], test_fn_est_a[-1], test_fn_est_aa[-1], test_fn_est_aa1[-1]], 2)"
   ]
  },
  {
   "cell_type": "code",
   "execution_count": 7,
   "metadata": {},
   "outputs": [
    {
     "data": {
      "text/plain": [
       "(0.6009255869178629, 0.6)"
      ]
     },
     "execution_count": 7,
     "metadata": {},
     "output_type": "execute_result"
    }
   ],
   "source": [
    "np.sort(np.abs(np.linalg.eig(alpha)[0]))[-2], 2*np.sqrt(C-1)/C"
   ]
  },
  {
   "cell_type": "code",
   "execution_count": 8,
   "metadata": {
    "collapsed": true
   },
   "outputs": [],
   "source": [
    "theta_OU = [0.5, 1, 1, 0.2, 1]\n",
    "x_0 = np.asarray([0])\n",
    "T = 500\n",
    "y_OU = simulate_data_OU(theta_OU, x_0, T)\n",
    "data_OU = dict(x_0=x_0, y=y_OU)"
   ]
  },
  {
   "cell_type": "code",
   "execution_count": 9,
   "metadata": {},
   "outputs": [
    {
     "name": "stdout",
     "output_type": "stream",
     "text": [
      "0.2 seconds\n",
      "3.9 seconds\n",
      "17.7 seconds\n"
     ]
    },
    {
     "name": "stderr",
     "output_type": "stream",
     "text": [
      "/home/postdoc/dsen/Desktop/alphaSMC/PF.py:59: RuntimeWarning: invalid value encountered in true_divide\n",
      "  resampled_idx[particle] = npr.choice(a=connections, p=weights[connections]/np.sum(weights[connections]))\n",
      "/home/postdoc/dsen/Desktop/alphaSMC/PF.py:59: RuntimeWarning: invalid value encountered in less\n",
      "  resampled_idx[particle] = npr.choice(a=connections, p=weights[connections]/np.sum(weights[connections]))\n"
     ]
    },
    {
     "name": "stdout",
     "output_type": "stream",
     "text": [
      "32.8 seconds\n"
     ]
    }
   ],
   "source": [
    "N = 1000\n",
    "\n",
    "start = time()\n",
    "log_NC_b, test_fn_est_b = bootstrap_PF(data_OU, theta_OU, potential_OU, propagate_OU, test_fn, N)\n",
    "print(round(time() - start, 1), \"seconds\")\n",
    "\n",
    "C = 10\n",
    "alpha = d_regular_graph(N, C)\n",
    "start = time()\n",
    "log_NC_aa, test_fn_est_aa = alphaSMC(data_OU, theta_OU, potential_OU, propagate_OU, test_fn, N, C, alpha)\n",
    "print(round(time() - start, 1), \"seconds\")\n",
    "\n",
    "start = time()\n",
    "log_NC_aa1, test_fn_est_aa1 = alphaSMC(data_OU, theta_OU, potential_OU, propagate_OU, test_fn, N, C, \"random\")\n",
    "print(round(time() - start, 1), \"seconds\")\n",
    "\n",
    "start = time()\n",
    "log_NC_a, test_fn_est_a = alphaSMC_random(data_OU, theta_OU, potential_OU, propagate_OU, test_fn, N, C)\n",
    "print(round(time() - start, 1), \"seconds\")"
   ]
  },
  {
   "cell_type": "code",
   "execution_count": 10,
   "metadata": {},
   "outputs": [
    {
     "data": {
      "text/plain": [
       "array([-725.51, -729.64, -730.82, -738.26])"
      ]
     },
     "execution_count": 10,
     "metadata": {},
     "output_type": "execute_result"
    }
   ],
   "source": [
    "np.round([log_NC_b[-1], log_NC_a[-1], log_NC_aa[-1], log_NC_aa1[-1]], 2)"
   ]
  },
  {
   "cell_type": "code",
   "execution_count": null,
   "metadata": {
    "collapsed": true
   },
   "outputs": [],
   "source": []
  }
 ],
 "metadata": {
  "kernelspec": {
   "display_name": "Python 3",
   "language": "python",
   "name": "python3"
  },
  "language_info": {
   "codemirror_mode": {
    "name": "ipython",
    "version": 3
   },
   "file_extension": ".py",
   "mimetype": "text/x-python",
   "name": "python",
   "nbconvert_exporter": "python",
   "pygments_lexer": "ipython3",
   "version": "3.6.2"
  }
 },
 "nbformat": 4,
 "nbformat_minor": 2
}
