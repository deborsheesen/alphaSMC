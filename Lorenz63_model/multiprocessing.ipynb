{
 "cells": [
  {
   "cell_type": "code",
   "execution_count": 1,
   "metadata": {
    "collapsed": true
   },
   "outputs": [],
   "source": [
    "from time import time\n",
    "import numpy as np, numpy.random as npr, multiprocessing as mp"
   ]
  },
  {
   "cell_type": "code",
   "execution_count": 20,
   "metadata": {},
   "outputs": [
    {
     "name": "stdout",
     "output_type": "stream",
     "text": [
      "5.191797494888306\n"
     ]
    }
   ],
   "source": [
    "def f(x): \n",
    "    for i in range(10**8) : pass \n",
    "    return np.asarray([x,x*x]) \n",
    "   \n",
    "inputs = npr.randn(20)\n",
    "start = time()\n",
    "if __name__ == '__main__': \n",
    "    pool = mp.Pool() \n",
    "    pool = mp.Pool(processes=5)     \n",
    "    outputs1 = pool.map(f, inputs) \n",
    "time1 = time()-start\n",
    "print(time1)"
   ]
  },
  {
   "cell_type": "code",
   "execution_count": 21,
   "metadata": {},
   "outputs": [
    {
     "data": {
      "text/plain": [
       "[array([0.13316809, 0.01773374]),\n",
       " array([1.2201593 , 1.48878872]),\n",
       " array([-1.87041482,  3.49845161]),\n",
       " array([-1.61640944,  2.61277949]),\n",
       " array([-0.185484  ,  0.03440431]),\n",
       " array([-0.18956856,  0.03593624]),\n",
       " array([1.59197616, 2.53438809]),\n",
       " array([-0.11861775,  0.01407017]),\n",
       " array([-2.18825925,  4.78847857]),\n",
       " array([2.54198853, 6.46170568]),\n",
       " array([0.65811648, 0.4331173 ]),\n",
       " array([-1.63007906,  2.65715773]),\n",
       " array([0.93876075, 0.88127175]),\n",
       " array([2.55160223, 6.51067395]),\n",
       " array([-0.61372554,  0.37665903]),\n",
       " array([-0.10800094,  0.0116642 ]),\n",
       " array([0.39417883, 0.15537695]),\n",
       " array([-0.5580115 ,  0.31137684]),\n",
       " array([-0.50389108,  0.25390622]),\n",
       " array([-2.06685632,  4.27189506])]"
      ]
     },
     "execution_count": 21,
     "metadata": {},
     "output_type": "execute_result"
    }
   ],
   "source": [
    "outputs1"
   ]
  },
  {
   "cell_type": "code",
   "execution_count": 22,
   "metadata": {},
   "outputs": [
    {
     "name": "stdout",
     "output_type": "stream",
     "text": [
      "23.81115460395813\n"
     ]
    }
   ],
   "source": [
    "start = time()\n",
    "outputs2 = np.zeros((len(inputs),2))\n",
    "for (i,x) in enumerate(inputs) :\n",
    "    outputs2[i] = f(x)\n",
    "time2 = time()-start\n",
    "print(time2)"
   ]
  },
  {
   "cell_type": "code",
   "execution_count": 23,
   "metadata": {},
   "outputs": [
    {
     "data": {
      "text/plain": [
       "4.586302649015472"
      ]
     },
     "execution_count": 23,
     "metadata": {},
     "output_type": "execute_result"
    }
   ],
   "source": [
    "time2/time1"
   ]
  },
  {
   "cell_type": "code",
   "execution_count": 25,
   "metadata": {},
   "outputs": [
    {
     "data": {
      "text/plain": [
       "array([[ 0.13316809,  0.01773374],\n",
       "       [ 1.2201593 ,  1.48878872],\n",
       "       [-1.87041482,  3.49845161],\n",
       "       [-1.61640944,  2.61277949],\n",
       "       [-0.185484  ,  0.03440431],\n",
       "       [-0.18956856,  0.03593624],\n",
       "       [ 1.59197616,  2.53438809],\n",
       "       [-0.11861775,  0.01407017],\n",
       "       [-2.18825925,  4.78847857],\n",
       "       [ 2.54198853,  6.46170568],\n",
       "       [ 0.65811648,  0.4331173 ],\n",
       "       [-1.63007906,  2.65715773],\n",
       "       [ 0.93876075,  0.88127175],\n",
       "       [ 2.55160223,  6.51067395],\n",
       "       [-0.61372554,  0.37665903],\n",
       "       [-0.10800094,  0.0116642 ],\n",
       "       [ 0.39417883,  0.15537695],\n",
       "       [-0.5580115 ,  0.31137684],\n",
       "       [-0.50389108,  0.25390622],\n",
       "       [-2.06685632,  4.27189506]])"
      ]
     },
     "execution_count": 25,
     "metadata": {},
     "output_type": "execute_result"
    }
   ],
   "source": [
    "outputs2"
   ]
  },
  {
   "cell_type": "code",
   "execution_count": 27,
   "metadata": {},
   "outputs": [
    {
     "data": {
      "text/plain": [
       "array([[0., 0.],\n",
       "       [0., 0.],\n",
       "       [0., 0.],\n",
       "       [0., 0.],\n",
       "       [0., 0.],\n",
       "       [0., 0.],\n",
       "       [0., 0.],\n",
       "       [0., 0.],\n",
       "       [0., 0.],\n",
       "       [0., 0.],\n",
       "       [0., 0.],\n",
       "       [0., 0.],\n",
       "       [0., 0.],\n",
       "       [0., 0.],\n",
       "       [0., 0.],\n",
       "       [0., 0.],\n",
       "       [0., 0.],\n",
       "       [0., 0.],\n",
       "       [0., 0.],\n",
       "       [0., 0.]])"
      ]
     },
     "execution_count": 27,
     "metadata": {},
     "output_type": "execute_result"
    }
   ],
   "source": [
    "outputs1-outputs2"
   ]
  },
  {
   "cell_type": "code",
   "execution_count": null,
   "metadata": {
    "collapsed": true
   },
   "outputs": [],
   "source": []
  }
 ],
 "metadata": {
  "kernelspec": {
   "display_name": "Python 3",
   "language": "python",
   "name": "python3"
  },
  "language_info": {
   "codemirror_mode": {
    "name": "ipython",
    "version": 3
   },
   "file_extension": ".py",
   "mimetype": "text/x-python",
   "name": "python",
   "nbconvert_exporter": "python",
   "pygments_lexer": "ipython3",
   "version": "3.6.2"
  }
 },
 "nbformat": 4,
 "nbformat_minor": 2
}
