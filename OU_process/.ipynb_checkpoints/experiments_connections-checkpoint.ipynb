{
 "cells": [
  {
   "cell_type": "code",
   "execution_count": 1,
   "metadata": {
    "collapsed": true
   },
   "outputs": [],
   "source": [
    "# Calling libraries:\n",
    "from __future__ import division\n",
    "%matplotlib inline\n",
    "import numpy as np, math, scipy, matplotlib.pyplot as plt\n",
    "from scipy.stats import norm, uniform, bernoulli\n",
    "from scipy.linalg import sqrtm \n",
    "from pylab import plot, show, legend\n",
    "from time import time\n",
    "from tqdm import trange\n",
    "from OU_functions import *\n",
    "plt.rcParams['figure.figsize'] = (15.0, 3.0)\n",
    "int = np.vectorize(int)"
   ]
  },
  {
   "cell_type": "code",
   "execution_count": 2,
   "metadata": {
    "collapsed": true
   },
   "outputs": [],
   "source": [
    "theta = [0.5, 1, 1, 0.2]\n",
    "x_0   = 0\n",
    "T     = 500\n",
    "delta = 1\n",
    "\n",
    "y = simulate_data(theta, x_0, T, delta)"
   ]
  },
  {
   "cell_type": "code",
   "execution_count": 3,
   "metadata": {
    "collapsed": true
   },
   "outputs": [],
   "source": [
    "def test_function(x) :\n",
    "    return x"
   ]
  },
  {
   "cell_type": "markdown",
   "metadata": {
    "collapsed": true
   },
   "source": [
    "#### Sanity check:"
   ]
  },
  {
   "cell_type": "code",
   "execution_count": 4,
   "metadata": {
    "collapsed": true
   },
   "outputs": [],
   "source": [
    "N = 1_000\n",
    "C = 10"
   ]
  },
  {
   "cell_type": "code",
   "execution_count": 5,
   "metadata": {},
   "outputs": [
    {
     "name": "stdout",
     "output_type": "stream",
     "text": [
      "0.14264678955078125\n"
     ]
    }
   ],
   "source": [
    "start = time.time()\n",
    "logNC_bootstrap, filtering_mean_bootstrap = \\\n",
    "bootstrap_PF(N, theta, x_0, y, delta, potential, test_function)\n",
    "print(time.time()-start)"
   ]
  },
  {
   "cell_type": "code",
   "execution_count": 6,
   "metadata": {},
   "outputs": [
    {
     "name": "stdout",
     "output_type": "stream",
     "text": [
      "44.247424602508545\n"
     ]
    }
   ],
   "source": [
    "start = time.time()\n",
    "logNC_random, filtering_mean_random = \\\n",
    "alphaSMC_random(N, theta, x_0, y, delta, C, potential, test_function)\n",
    "print(time.time()-start)"
   ]
  },
  {
   "cell_type": "code",
   "execution_count": 7,
   "metadata": {},
   "outputs": [],
   "source": [
    "alpha_matrix_regular = d_regular_graph(N, C)[0]\n",
    "logNC_regular, filtering_mean_regular = \\\n",
    "alphaSMC_fixed_alpha(alpha_matrix_regular, theta, x_0, y, delta, potential, test_function)"
   ]
  },
  {
   "cell_type": "code",
   "execution_count": 8,
   "metadata": {},
   "outputs": [
    {
     "data": {
      "text/plain": [
       "(-1073.835350638396, -1070.058078161033, -1071.978852503164)"
      ]
     },
     "execution_count": 8,
     "metadata": {},
     "output_type": "execute_result"
    }
   ],
   "source": [
    "logNC_regular[-1], logNC_random[-1], logNC_bootstrap[-1]"
   ]
  },
  {
   "cell_type": "code",
   "execution_count": 9,
   "metadata": {},
   "outputs": [
    {
     "name": "stderr",
     "output_type": "stream",
     "text": [
      "100%|██████████| 100/100 [4:52:12<00:00, 149.97s/it] \n"
     ]
    }
   ],
   "source": [
    "C_list = [5, 10, 15, 20]\n",
    "rep = 100\n",
    "logNC = np.zeros((len(C_list), rep, 3))\n",
    "filtering_mean = np.zeros((len(C_list), rep, 3))\n",
    "\n",
    "for r in trange(rep) :\n",
    "    for i,C in enumerate(C_list) :\n",
    "        a, b = bootstrap_PF(N, theta, x_0, y, delta, potential, test_function)\n",
    "        logNC[i,r,0], filtering_mean[i,r,0] = a[-1], b[-1]\n",
    "        \n",
    "        a, b = alphaSMC_random(N, theta, x_0, y, delta, C, potential, test_function)\n",
    "        logNC[i,r,1], filtering_mean[i,r,1] = a[-1], b[-1]\n",
    "        \n",
    "        alpha_matrix_regular = d_regular_graph(N, C)[0]\n",
    "        a, b = alphaSMC_fixed_alpha(alpha_matrix_regular, theta, x_0, y, delta, potential, test_function)\n",
    "        logNC[i,r,2], filtering_mean[i,r,2] = a[-1], b[-1]\n",
    "        \n",
    "        alpha_matrix_le = local_exchange_graph(N, C)\n",
    "        a, b = alphaSMC_fixed_alpha(alpha_matrix_le, theta, x_0, y, delta, potential, test_function)\n",
    "        logNC[i,r,3], filtering_mean[i,r,3] = a[-1], b[-1]"
   ]
  },
  {
   "cell_type": "code",
   "execution_count": 15,
   "metadata": {},
   "outputs": [],
   "source": [
    "logNC_ = np.zeros((len(C_list), rep, 4))\n",
    "filtering_mean_ = np.zeros((len(C_list), rep, 4))\n",
    "logNC_[:,:,:3] = np.copy(logNC)\n",
    "filtering_mean_[:,:,:3] = np.copy(filtering_mean)"
   ]
  },
  {
   "cell_type": "code",
   "execution_count": null,
   "metadata": {},
   "outputs": [
    {
     "name": "stderr",
     "output_type": "stream",
     "text": [
      "  2%|▏         | 2/100 [00:52<43:03, 26.36s/it]"
     ]
    }
   ],
   "source": [
    "for r in trange(rep) :\n",
    "    for i,C in enumerate(C_list) :\n",
    "        alpha_matrix_le = local_exchange_graph(N, C)\n",
    "        a, b = alphaSMC_fixed_alpha(alpha_matrix_le, theta, x_0, y, delta, potential, test_function)\n",
    "        logNC[i,r,3], filtering_mean[i,r,3] = a[-1], b[-1]"
   ]
  },
  {
   "cell_type": "code",
   "execution_count": null,
   "metadata": {
    "collapsed": true
   },
   "outputs": [],
   "source": []
  }
 ],
 "metadata": {
  "kernelspec": {
   "display_name": "Python 3",
   "language": "python",
   "name": "python3"
  },
  "language_info": {
   "codemirror_mode": {
    "name": "ipython",
    "version": 3
   },
   "file_extension": ".py",
   "mimetype": "text/x-python",
   "name": "python",
   "nbconvert_exporter": "python",
   "pygments_lexer": "ipython3",
   "version": "3.6.2"
  }
 },
 "nbformat": 4,
 "nbformat_minor": 1
}
