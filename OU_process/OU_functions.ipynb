{
 "cells": [
  {
   "cell_type": "code",
   "execution_count": 7,
   "metadata": {
    "collapsed": true
   },
   "outputs": [],
   "source": [
    "# Calling libraries:\n",
    "from __future__ import division\n",
    "%matplotlib inline\n",
    "import numpy as np\n",
    "import time\n",
    "from scipy.stats import norm, uniform, bernoulli\n",
    "from scipy.linalg import sqrtm \n",
    "from pylab import plot, show, legend\n",
    "import matplotlib.pyplot as plt\n",
    "import math \n",
    "import scipy\n",
    "import networkx as nx\n",
    "plt.rcParams['figure.figsize'] = (15.0, 3.0)\n",
    "int = np.vectorize(int)"
   ]
  },
  {
   "cell_type": "markdown",
   "metadata": {},
   "source": [
    "* $ X_{t+1} = - \\alpha (X_t - \\beta) \\, \\delta + \\sqrt{\\delta} \\, \\mathcal{N}(0, \\sigma^2)$, $X_0 = x_0$ \n",
    "\n",
    "* $Y_t = X_t + N(0, \\sigma_\\epsilon^2)$. \n",
    "\n",
    "* $ \\theta = (\\alpha, \\beta, \\sigma, \\sigma_\\epsilon)$. \n",
    "\n",
    "* $ \\alpha > 0$, $\\beta \\in \\mathbb{R}$, $\\sigma > 0$, $\\sigma_\\epsilon > 0$. \n",
    "\n",
    "* Euler-maruyama discretization: $\\delta$."
   ]
  },
  {
   "cell_type": "code",
   "execution_count": 3,
   "metadata": {
    "collapsed": true
   },
   "outputs": [],
   "source": [
    "def simulate_data(theta,x_0,T,delta) :\n",
    "    X = x_0\n",
    "    y = np.zeros(T)\n",
    "    for t in range(T) :\n",
    "        X += -theta[0]*(X-theta[1])*delta + np.sqrt(delta)*theta[2]*np.random.randn(1)\n",
    "        y[t] = X + theta[3]*np.random.randn(1) \n",
    "    return y"
   ]
  },
  {
   "cell_type": "code",
   "execution_count": 4,
   "metadata": {
    "collapsed": true
   },
   "outputs": [],
   "source": [
    "def potential(y,X,sigma_error) :\n",
    "    return np.exp(-1/(2*sigma_error**2)*(X-y)**2)"
   ]
  },
  {
   "cell_type": "markdown",
   "metadata": {},
   "source": [
    "### Bootstrap particle filter:\n",
    "\n",
    "* Resample at every time step."
   ]
  },
  {
   "cell_type": "code",
   "execution_count": 5,
   "metadata": {
    "collapsed": true
   },
   "outputs": [],
   "source": [
    "def bootstrap_PF(n_particles, theta, x_0, y, delta, potential, test_function ) :\n",
    "    \n",
    "    scipy.random.seed()\n",
    "    \n",
    "    T = len(y)\n",
    "    particles    = np.zeros(n_particles)\n",
    "    particles[:] = x_0\n",
    "    log_NC       = np.zeros(T+1)\n",
    "    particles   += -theta[0]*(particles-theta[1])*delta + np.sqrt(delta)*theta[2]*np.random.randn(n_particles)\n",
    "    test_function_estimate = np.zeros(T)\n",
    "\n",
    "    for t in range(T) :\n",
    "        weights     = potential( particles, y[t], theta[3] ) / n_particles\n",
    "        log_NC[t+1] = log_NC[t] + np.log(np.sum(weights))\n",
    "        particles   = particles[np.random.choice(a=n_particles,size=n_particles,replace=True,p=weights/np.sum(weights))]\n",
    "        particles  += -theta[0]*(particles-theta[1])*delta + np.sqrt(delta)*theta[2]*np.random.randn(n_particles)\n",
    "        \n",
    "        test_function_estimate[t] = np.mean(test_function(particles))\n",
    "        \n",
    "    return log_NC[1::], test_function_estimate"
   ]
  },
  {
   "cell_type": "markdown",
   "metadata": {},
   "source": [
    "### $\\alpha$SMC with random connections:\n",
    "\n",
    "* Choose a random $\\alpha$ matrix at each time."
   ]
  },
  {
   "cell_type": "code",
   "execution_count": 1,
   "metadata": {
    "collapsed": true
   },
   "outputs": [],
   "source": [
    "def alphaSMC_random(n_particles, theta, x_0, y, delta, n_connections, potential, test_function) :\n",
    "    \n",
    "    scipy.random.seed()\n",
    "    \n",
    "    T = len(y)\n",
    "    particles    = np.zeros(n_particles)\n",
    "    particles[:] = x_0\n",
    "    log_NC       = np.zeros(T+1)\n",
    "    particles   += -theta[0]*(particles-theta[1])*delta + np.sqrt(delta)*theta[2]*np.random.randn(n_particles)\n",
    "    test_function_estimate = np.zeros(T)\n",
    "    \n",
    "    W = np.ones(n_particles)\n",
    "    weights = np.ones(n_particles) \n",
    "    resampled_index = [1]*n_particles\n",
    "\n",
    "    for t in range(T) :\n",
    "        weights *= potential(particles, y[t], theta[3])\n",
    "        for particle in range(n_particles) : \n",
    "            connections = np.random.choice(n_particles, n_connections, False)\n",
    "            W[particle] = np.sum(weights[connections]) / n_connections\n",
    "            resampled_index[particle] = np.random.choice(a=connections,\n",
    "                                                         p=weights[connections]/np.sum(weights[connections]))\n",
    "        particles[:] = particles[resampled_index]\n",
    "        log_NC [t+1] = log_NC[t] + np.log(np.sum(W)) \n",
    "        weights  [:] = W / np.sum(W) \n",
    "        particles += -theta[0]*(particles-theta[1])*delta + np.sqrt(delta)*theta[2]*np.random.randn(n_particles)\n",
    "        \n",
    "        test_function_estimate[t] = np.sum(weights*test_function(particles))\n",
    "    \n",
    "    return log_NC[1:], test_function_estimate"
   ]
  },
  {
   "cell_type": "markdown",
   "metadata": {},
   "source": [
    "### $\\alpha$SMC with fixed $\\alpha$ matrix:"
   ]
  },
  {
   "cell_type": "code",
   "execution_count": 7,
   "metadata": {
    "collapsed": true
   },
   "outputs": [],
   "source": [
    "def vectorized(prob_matrix, items):\n",
    "    s = prob_matrix.cumsum(axis=0)\n",
    "    r = np.random.rand(prob_matrix.shape[1])\n",
    "    k = (s < r).sum(axis=0)\n",
    "    return items[k]"
   ]
  },
  {
   "cell_type": "code",
   "execution_count": 10,
   "metadata": {
    "collapsed": true
   },
   "outputs": [],
   "source": [
    "def alphaSMC_fixed_alpha(alpha_matrix, theta, x_0, y, delta, potential, test_function) :\n",
    "    \n",
    "    scipy.random.seed()\n",
    "    \n",
    "    T = len(y)\n",
    "    n_particles     = np.shape(alpha_matrix)[0]\n",
    "    particles       = np.zeros(n_particles)\n",
    "    particles[:]    = x_0\n",
    "    weights         = np.ones(n_particles)\n",
    "    log_NC          = np.zeros(T+1)\n",
    "    particles += -theta[0]*(particles-theta[1])*delta + np.sqrt(delta)*theta[2]*np.random.randn(n_particles)\n",
    "    test_function_estimate = np.zeros(T)\n",
    "    \n",
    "    prob_wts = np.ones(( n_particles, n_particles ))\n",
    "    items = np.arange(n_particles)\n",
    "\n",
    "    for t in range(T) :\n",
    "        prob_wts[:] = alpha_matrix*weights*potential(particles, y[t], theta[3]) \n",
    "        W_bar = np.sum(prob_wts,axis=1)\n",
    "        prob_matrix = (prob_wts / np.sum(prob_wts, axis=1, keepdims=True)).T\n",
    "        resampled_particles = vectorized(prob_matrix, items)\n",
    "        particles[:] = particles[resampled_particles]\n",
    "        \n",
    "        log_NC[t+1] = log_NC[t] + np.log(np.sum(W_bar)) \n",
    "        weights = W_bar / np.sum(W_bar)         \n",
    "        particles += -theta[0]*(particles-theta[1])*delta + np.sqrt(delta)*theta[2]*np.random.randn(n_particles)\n",
    "        \n",
    "        test_function_estimate[t] = np.sum(weights/np.sum(weights)*test_function(particles))\n",
    "    \n",
    "    return log_NC[1:], test_function_estimate"
   ]
  },
  {
   "cell_type": "code",
   "execution_count": 9,
   "metadata": {
    "collapsed": true
   },
   "outputs": [],
   "source": [
    "def d_regular_graph(n_particles,n_connections,fix_seed=True) :\n",
    "    if fix_seed == True :\n",
    "        G = nx.random_regular_graph(n_connections, n_particles, 12345)\n",
    "    else :\n",
    "        G = nx.random_regular_graph(n_connections, n_particles)\n",
    "    A = np.asarray(nx.to_scipy_sparse_matrix(G).todense())\n",
    "    A = A / A.sum(axis=1)[0]\n",
    "    return A, G"
   ]
  },
  {
   "cell_type": "markdown",
   "metadata": {
    "collapsed": true
   },
   "source": [
    "#### Local exchange matrix:"
   ]
  },
  {
   "cell_type": "code",
   "execution_count": null,
   "metadata": {
    "collapsed": true
   },
   "outputs": [],
   "source": [
    "def local_exchange_graph(n_computers, degree) :\n",
    "    A = np.diag(np.ones(n_computers))/degree\n",
    "    for i in range(n_computers) :\n",
    "        d, d_left, d_right = 1, 1, 1\n",
    "        while d < degree : \n",
    "            A[i, (i+1+d_right)%n_computers-1] = 1/degree\n",
    "            d_right += 1; d += 1\n",
    "            if d < degree :\n",
    "                A[i, (i+1-d_left)%n_computers-1] = 1/degree\n",
    "                d_left += 1; d += 1\n",
    "    return A"
   ]
  },
  {
   "cell_type": "code",
   "execution_count": null,
   "metadata": {
    "collapsed": true
   },
   "outputs": [],
   "source": []
  },
  {
   "cell_type": "code",
   "execution_count": 8,
   "metadata": {},
   "outputs": [],
   "source": []
  }
 ],
 "metadata": {
  "kernelspec": {
   "display_name": "Python [default]",
   "language": "python",
   "name": "python3"
  },
  "language_info": {
   "codemirror_mode": {
    "name": "ipython",
    "version": 3
   },
   "file_extension": ".py",
   "mimetype": "text/x-python",
   "name": "python",
   "nbconvert_exporter": "python",
   "pygments_lexer": "ipython3",
   "version": "3.6.5"
  }
 },
 "nbformat": 4,
 "nbformat_minor": 1
}
