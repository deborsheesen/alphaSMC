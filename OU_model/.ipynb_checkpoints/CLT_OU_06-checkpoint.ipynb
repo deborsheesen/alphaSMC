{
 "cells": [
  {
   "cell_type": "code",
   "execution_count": 1,
   "metadata": {
    "collapsed": true
   },
   "outputs": [],
   "source": [
    "from __future__ import division\n",
    "%matplotlib inline\n",
    "import numpy as np,  matplotlib.pyplot as plt, sys, gc\n",
    "from time import time\n",
    "from pylab import plot, show, legend\n",
    "sys.path.append('/home/postdoc/dsen/Desktop/alphaSMC')\n",
    "from PF import *\n",
    "sys.path.append('/home/postdoc/dsen/Desktop/alphaSMC/OU_model')\n",
    "from OU import *\n",
    "plt.rcParams['figure.figsize'] = (15.0, 3.0)"
   ]
  },
  {
   "cell_type": "code",
   "execution_count": 2,
   "metadata": {
    "collapsed": true
   },
   "outputs": [],
   "source": [
    "y = np.load(\"/home/postdoc/dsen/Desktop/alphaSMC/data/data_OU/y_OU.npy\")\n",
    "x_0 = np.load(\"/home/postdoc/dsen/Desktop/alphaSMC/data/data_OU/x_0_OU.npy\")\n",
    "theta = np.load(\"/home/postdoc/dsen/Desktop/alphaSMC/data/data_OU/theta_OU.npy\")\n",
    "data = dict(x_0=x_0, y=y)\n",
    "def test_fn(x) : return x\n",
    "propagate, potential = propagate_OU, potential_OU"
   ]
  },
  {
   "cell_type": "code",
   "execution_count": null,
   "metadata": {
    "scrolled": true
   },
   "outputs": [
    {
     "name": "stdout",
     "output_type": "stream",
     "text": [
      "[rep,N,C] = [1, 2000, 101] in 15.9 seconds\n",
      "[rep,N,C] = [1, 2000, 201] in 37.9 seconds\n",
      "[rep,N,C] = [1, 2000, 301] in 50.6 seconds\n",
      "[rep,N,C] = [1, 2000, 401] in 63.6 seconds\n",
      "[rep,N,C] = [1, 2000, 501] in 70.7 seconds\n",
      "[rep,N,C] = [1, 3000, 101] in 32.3 seconds\n",
      "[rep,N,C] = [1, 3000, 201] in 46.9 seconds\n",
      "[rep,N,C] = [1, 3000, 301] in 62.0 seconds\n",
      "[rep,N,C] = [1, 3000, 401] in 77.6 seconds\n",
      "[rep,N,C] = [1, 3000, 501] in 103.0 seconds\n",
      "[rep,N,C] = [1, 4000, 101] in 50.5 seconds\n",
      "[rep,N,C] = [1, 4000, 201] in 95.0 seconds\n",
      "[rep,N,C] = [1, 4000, 301] in 118.1 seconds\n",
      "[rep,N,C] = [1, 4000, 401] in 142.9 seconds\n",
      "[rep,N,C] = [1, 4000, 501] in 144.1 seconds\n",
      "[rep,N,C] = [1, 5000, 101] in 70.3 seconds\n",
      "[rep,N,C] = [1, 5000, 201] in 97.7 seconds\n",
      "[rep,N,C] = [1, 5000, 301] in 125.7 seconds\n",
      "[rep,N,C] = [1, 5000, 401] in 168.6 seconds\n",
      "[rep,N,C] = [1, 5000, 501] in 225.5 seconds\n",
      "[rep,N,C] = [1, 6000, 101] in 124.0 seconds\n",
      "[rep,N,C] = [1, 6000, 201] in 170.9 seconds\n",
      "[rep,N,C] = [1, 6000, 301] in 211.5 seconds\n",
      "[rep,N,C] = [1, 6000, 401] in 204.9 seconds\n",
      "[rep,N,C] = [1, 6000, 501] in 247.0 seconds\n",
      "[rep,N,C] = [1, 7000, 101] in 119.2 seconds\n",
      "[rep,N,C] = [1, 7000, 201] in 160.5 seconds\n",
      "[rep,N,C] = [1, 7000, 301] in 217.2 seconds\n",
      "[rep,N,C] = [1, 7000, 401] in 283.6 seconds\n",
      "[rep,N,C] = [1, 7000, 501] in 278.1 seconds\n",
      "[rep,N,C] = [1, 8000, 101] in 142.7 seconds\n",
      "[rep,N,C] = [1, 8000, 201] in 233.7 seconds\n",
      "[rep,N,C] = [1, 8000, 301] in 331.5 seconds\n",
      "[rep,N,C] = [1, 8000, 401] in 358.0 seconds\n",
      "[rep,N,C] = [1, 8000, 501] in 368.0 seconds\n",
      "[rep,N,C] = [1, 9000, 101] in 223.7 seconds\n",
      "[rep,N,C] = [1, 9000, 201] in 317.9 seconds\n",
      "[rep,N,C] = [1, 9000, 301] in 384.1 seconds\n",
      "[rep,N,C] = [1, 9000, 401] in 435.2 seconds\n",
      "[rep,N,C] = [1, 9000, 501] in 449.5 seconds\n",
      "[rep,N,C] = [1, 10000, 101] in 270.4 seconds\n",
      "[rep,N,C] = [1, 10000, 201] in 357.7 seconds\n",
      "[rep,N,C] = [1, 10000, 301] in 455.3 seconds\n",
      "[rep,N,C] = [1, 10000, 401] in 496.9 seconds\n",
      "[rep,N,C] = [1, 10000, 501] in 547.3 seconds\n",
      "[rep,N,C] = [2, 2000, 101] in 29.8 seconds\n",
      "[rep,N,C] = [2, 2000, 201] in 45.6 seconds\n",
      "[rep,N,C] = [2, 2000, 301] in 58.9 seconds\n",
      "[rep,N,C] = [2, 2000, 401] in 67.7 seconds\n",
      "[rep,N,C] = [2, 2000, 501] in 84.3 seconds\n",
      "[rep,N,C] = [2, 3000, 101] in 49.5 seconds\n",
      "[rep,N,C] = [2, 3000, 201] in 72.4 seconds\n",
      "[rep,N,C] = [2, 3000, 301] in 92.2 seconds\n",
      "[rep,N,C] = [2, 3000, 401] in 111.6 seconds\n",
      "[rep,N,C] = [2, 3000, 501] in 132.6 seconds\n",
      "[rep,N,C] = [2, 4000, 101] in 68.7 seconds\n",
      "[rep,N,C] = [2, 4000, 201] in 97.5 seconds\n",
      "[rep,N,C] = [2, 4000, 301] in 125.6 seconds\n",
      "[rep,N,C] = [2, 4000, 401] in 153.9 seconds\n",
      "[rep,N,C] = [2, 4000, 501] in 177.6 seconds\n",
      "[rep,N,C] = [2, 5000, 101] in 93.3 seconds\n",
      "[rep,N,C] = [2, 5000, 201] in 127.2 seconds\n",
      "[rep,N,C] = [2, 5000, 301] in 164.8 seconds\n",
      "[rep,N,C] = [2, 5000, 401] in 183.3 seconds\n",
      "[rep,N,C] = [2, 5000, 501] in 237.3 seconds\n",
      "[rep,N,C] = [2, 6000, 101] in 119.8 seconds\n",
      "[rep,N,C] = [2, 6000, 201] in 165.9 seconds\n",
      "[rep,N,C] = [2, 6000, 301] in 198.5 seconds\n",
      "[rep,N,C] = [2, 6000, 401] in 242.0 seconds\n",
      "[rep,N,C] = [2, 6000, 501] in 221.9 seconds\n",
      "[rep,N,C] = [2, 7000, 101] in 130.3 seconds\n",
      "[rep,N,C] = [2, 7000, 201] in 173.0 seconds\n",
      "[rep,N,C] = [2, 7000, 301] in 264.7 seconds\n",
      "[rep,N,C] = [2, 7000, 401] in 322.4 seconds\n",
      "[rep,N,C] = [2, 7000, 501] in 328.8 seconds\n",
      "[rep,N,C] = [2, 8000, 101] in 171.5 seconds\n"
     ]
    }
   ],
   "source": [
    "N_list = np.arange(2,11)*1000\n",
    "C_list = 100*np.arange(1,6)+1\n",
    "rep = 10\n",
    "logNC_bpf, testfn_bpf = np.zeros((rep,len(N_list))), np.zeros((rep,len(N_list)))\n",
    "logNC_alpha, testfn_alpha = np.zeros((rep,len(N_list),len(C_list))), np.zeros((rep,len(N_list),len(C_list)))\n",
    "\n",
    "start_overall = time()\n",
    "for r in range(rep) :\n",
    "    for (i,N) in enumerate(N_list) :\n",
    "        #Bootstrap PF:\n",
    "        logNC, testfn, _ = bootstrap_PF(data, theta, potential, propagate, test_fn, N, store_paths=False)\n",
    "        logNC_bpf[r,i], testfn_bpf[r,i] = logNC[-1], testfn[-1]\n",
    "        del logNC, testfn, _\n",
    "        gc.collect()\n",
    "        #alpha SMC:\n",
    "        for (j,C) in enumerate(C_list) :\n",
    "            alpha = d_regular_graph(N, C)\n",
    "            start = time()\n",
    "            logNC, testfn = alphaSMC(data, theta, potential, propagate, test_fn, alpha, \n",
    "                                     permute_alpha=True, show_progress=False)\n",
    "            logNC_alpha[r,i,j], testfn_alpha[r,i,j] = logNC[-1], testfn[-1] \n",
    "            print(\"[rep,N,C] =\", [r+1,N,C], \"in\", round(time() - start, 1), \"seconds\")\n",
    "            del logNC, testfn\n",
    "            gc.collect()"
   ]
  },
  {
   "cell_type": "code",
   "execution_count": null,
   "metadata": {
    "collapsed": true
   },
   "outputs": [],
   "source": [
    "i = 6\n",
    "np.save(\"/home/postdoc/dsen/Desktop/alphaSMC/data/data_OU/logNC_bpf\"+str(i), logNC_bpf)\n",
    "np.save(\"/home/postdoc/dsen/Desktop/alphaSMC/data/data_OU/logNC_alpha\"+str(i), logNC_alpha)\n",
    "np.save(\"/home/postdoc/dsen/Desktop/alphaSMC/data/data_OU/testfn_bpf\"+str(i), testfn_bpf)\n",
    "np.save(\"/home/postdoc/dsen/Desktop/alphaSMC/data/data_OU/testfn_alpha\"+str(i), testfn_alpha)"
   ]
  },
  {
   "cell_type": "code",
   "execution_count": null,
   "metadata": {
    "collapsed": true
   },
   "outputs": [],
   "source": []
  }
 ],
 "metadata": {
  "kernelspec": {
   "display_name": "Python 3",
   "language": "python",
   "name": "python3"
  },
  "language_info": {
   "codemirror_mode": {
    "name": "ipython",
    "version": 3
   },
   "file_extension": ".py",
   "mimetype": "text/x-python",
   "name": "python",
   "nbconvert_exporter": "python",
   "pygments_lexer": "ipython3",
   "version": "3.6.2"
  }
 },
 "nbformat": 4,
 "nbformat_minor": 2
}
