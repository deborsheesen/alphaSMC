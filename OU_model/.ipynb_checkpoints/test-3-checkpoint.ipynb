{
 "cells": [
  {
   "cell_type": "code",
   "execution_count": 13,
   "metadata": {
    "collapsed": true
   },
   "outputs": [],
   "source": [
    "# Calling libraries:\n",
    "from __future__ import division\n",
    "%matplotlib inline\n",
    "import numpy as np,  matplotlib.pyplot as plt, sys, scipy, gc\n",
    "from time import time\n",
    "from pylab import plot, show, legend\n",
    "sys.path.append('/home/postdoc/dsen/Desktop/alphaSMC')\n",
    "from PF import *\n",
    "sys.path.append('/home/postdoc/dsen/Desktop/alphaSMC/OU_model')\n",
    "from OU import *\n",
    "plt.rcParams['figure.figsize'] = (15.0, 3.0)"
   ]
  },
  {
   "cell_type": "code",
   "execution_count": 14,
   "metadata": {
    "collapsed": true
   },
   "outputs": [],
   "source": [
    "def test_fn(x) : return x"
   ]
  },
  {
   "cell_type": "code",
   "execution_count": 15,
   "metadata": {
    "collapsed": true
   },
   "outputs": [],
   "source": [
    "theta_OU = [0.5, 1, 1, 0.5, 1]\n",
    "x_0 = np.asarray([0])\n",
    "T = 500\n",
    "y_OU, _ = simulate_data_OU(theta_OU, x_0, T)\n",
    "data_OU = dict(x_0=x_0, y=y_OU)"
   ]
  },
  {
   "cell_type": "code",
   "execution_count": null,
   "metadata": {},
   "outputs": [
    {
     "name": "stderr",
     "output_type": "stream",
     "text": [
      "\r",
      "  0%|          | 0/100 [00:00<?, ?it/s]"
     ]
    }
   ],
   "source": [
    "data, theta, potential, propagate = data_OU, theta_OU, potential_OU, propagate_OU\n",
    "N = 10_000\n",
    "d = 51\n",
    "\n",
    "rep = 100\n",
    "logNC = np.zeros((rep,2))\n",
    "\n",
    "alpha_lepf = local_exchange_graph(N, d)\n",
    "alpha_random = d_regular_graph(N, d)\n",
    "start = time()\n",
    "for r in trange(rep) :\n",
    "    log_NC_lepf, _ = alphaSMC(data, theta, potential, propagate, test_fn, alpha_lepf, permute_alpha=True)\n",
    "    log_NC_random, _ = alphaSMC(data, theta, potential, propagate, test_fn, alpha_random, permute_alpha=True)\n",
    "    logNC[r,0], logNC[r,1] = log_NC_lepf[-1], log_NC_random[-1]\n",
    "    del log_NC_lepf, _, log_NC_random\n",
    "    gc.collect()\n",
    "print(round(time() - start, 1), \"seconds\")"
   ]
  },
  {
   "cell_type": "code",
   "execution_count": null,
   "metadata": {},
   "outputs": [],
   "source": [
    "N*(np.var(logNC,0)[0]-np.var(logNC,0)[1])"
   ]
  },
  {
   "cell_type": "code",
   "execution_count": null,
   "metadata": {
    "collapsed": true
   },
   "outputs": [],
   "source": []
  }
 ],
 "metadata": {
  "kernelspec": {
   "display_name": "Python 3",
   "language": "python",
   "name": "python3"
  },
  "language_info": {
   "codemirror_mode": {
    "name": "ipython",
    "version": 3
   },
   "file_extension": ".py",
   "mimetype": "text/x-python",
   "name": "python",
   "nbconvert_exporter": "python",
   "pygments_lexer": "ipython3",
   "version": "3.6.2"
  }
 },
 "nbformat": 4,
 "nbformat_minor": 2
}
