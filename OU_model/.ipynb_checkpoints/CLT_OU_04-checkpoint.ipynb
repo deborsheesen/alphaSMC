{
 "cells": [
  {
   "cell_type": "code",
   "execution_count": 2,
   "metadata": {},
   "outputs": [],
   "source": [
    "from __future__ import division\n",
    "%matplotlib inline\n",
    "import numpy as np,  matplotlib.pyplot as plt, sys, gc\n",
    "from time import time\n",
    "from pylab import plot, show, legend\n",
    "sys.path.append('/home/postdoc/dsen/Desktop/alphaSMC')\n",
    "from PF import *\n",
    "sys.path.append('/home/postdoc/dsen/Desktop/alphaSMC/OU_model')\n",
    "from OU import *\n",
    "plt.rcParams['figure.figsize'] = (15.0, 3.0)"
   ]
  },
  {
   "cell_type": "code",
   "execution_count": null,
   "metadata": {
    "collapsed": true
   },
   "outputs": [],
   "source": [
    "y = np.load(\"/home/postdoc/dsen/Desktop/alphaSMC/data/data_OU/y_OU.npy\")\n",
    "x_0 = np.load(\"/home/postdoc/dsen/Desktop/alphaSMC/data/data_OU/x_0_OU.npy\")\n",
    "theta = np.load(\"/home/postdoc/dsen/Desktop/alphaSMC/data/data_OU/theta_OU.npy\")\n",
    "data = dict(x_0=x_0, y=y)\n",
    "def test_fn(x) : return x\n",
    "propagate, potential = propagate_OU, potential_OU"
   ]
  },
  {
   "cell_type": "code",
   "execution_count": null,
   "metadata": {},
   "outputs": [
    {
     "name": "stderr",
     "output_type": "stream",
     "text": [
      "\r",
      "  0%|          | 0/10 [00:00<?, ?it/s]"
     ]
    }
   ],
   "source": [
    "N_list = np.arange(2,11)*1000\n",
    "C_list = 100*np.arange(1,6)+1\n",
    "rep = 10\n",
    "logNC_bpf, testfn_bpf = np.zeros((rep,len(N_list))), np.zeros((rep,len(N_list)))\n",
    "logNC_alpha, testfn_alpha = np.zeros((rep,len(N_list),len(C_list))), np.zeros((rep,len(N_list),len(C_list)))\n",
    "\n",
    "start_overall = time()\n",
    "for r in range(rep) :\n",
    "    for (i,N) in enumerate(N_list) :\n",
    "        #Bootstrap PF:\n",
    "        logNC, testfn, _ = bootstrap_PF(data, theta, potential, propagate, test_fn, N, store_paths=False)\n",
    "        logNC_bpf[r,i], testfn_bpf[r,i] = logNC[-1], testfn[-1]\n",
    "        #alpha SMC:\n",
    "        for (j,C) in enumerate(C_list) :\n",
    "            alpha = d_regular_graph(N, C)\n",
    "            start = time()\n",
    "            logNC, testfn = alphaSMC(data, theta, potential, propagate, test_fn, alpha, \n",
    "                                     permute_alpha=True, show_progress=False)\n",
    "            logNC_alpha[r,i,j], testfn_alpha[r,i,j] = logNC[-1], testfn[-1] \n",
    "            print(\"[rep,N,C] =\", [r+1,N,C], \"in\", round(time() - start, 1), \"seconds\")\n",
    "        del logNC, testfn, _\n",
    "        gc.collect()"
   ]
  },
  {
   "cell_type": "code",
   "execution_count": null,
   "metadata": {
    "collapsed": true
   },
   "outputs": [],
   "source": [
    "i = 4\n",
    "np.save(\"/home/postdoc/dsen/Desktop/alphaSMC/data/data_OU/logNC_bpf\"+str(i), logNC_bpf)\n",
    "np.save(\"/home/postdoc/dsen/Desktop/alphaSMC/data/data_OU/logNC_alpha\"+str(i), logNC_alpha)\n",
    "np.save(\"/home/postdoc/dsen/Desktop/alphaSMC/data/data_OU/testfn_bpf\"+str(i), testfn_bpf)\n",
    "np.save(\"/home/postdoc/dsen/Desktop/alphaSMC/data/data_OU/testfn_alpha\"+str(i), testfn_alpha)"
   ]
  },
  {
   "cell_type": "code",
   "execution_count": null,
   "metadata": {
    "collapsed": true
   },
   "outputs": [],
   "source": []
  }
 ],
 "metadata": {
  "kernelspec": {
   "display_name": "Python 3",
   "language": "python",
   "name": "python3"
  },
  "language_info": {
   "codemirror_mode": {
    "name": "ipython",
    "version": 3
   },
   "file_extension": ".py",
   "mimetype": "text/x-python",
   "name": "python",
   "nbconvert_exporter": "python",
   "pygments_lexer": "ipython3",
   "version": "3.6.2"
  }
 },
 "nbformat": 4,
 "nbformat_minor": 2
}
