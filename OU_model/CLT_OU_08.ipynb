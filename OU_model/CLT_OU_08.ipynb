{
 "cells": [
  {
   "cell_type": "code",
   "execution_count": 1,
   "metadata": {
    "collapsed": true
   },
   "outputs": [],
   "source": [
    "from __future__ import division\n",
    "%matplotlib inline\n",
    "import numpy as np,  matplotlib.pyplot as plt, sys, gc\n",
    "from time import time\n",
    "from pylab import plot, show, legend\n",
    "sys.path.append('/home/postdoc/dsen/Desktop/alphaSMC')\n",
    "from PF import *\n",
    "sys.path.append('/home/postdoc/dsen/Desktop/alphaSMC/OU_model')\n",
    "from OU import *\n",
    "plt.rcParams['figure.figsize'] = (15.0, 3.0)"
   ]
  },
  {
   "cell_type": "code",
   "execution_count": 2,
   "metadata": {
    "collapsed": true
   },
   "outputs": [],
   "source": [
    "y = np.load(\"/home/postdoc/dsen/Desktop/alphaSMC/data/data_OU/y_OU.npy\")\n",
    "x_0 = np.load(\"/home/postdoc/dsen/Desktop/alphaSMC/data/data_OU/x_0_OU.npy\")\n",
    "theta = np.load(\"/home/postdoc/dsen/Desktop/alphaSMC/data/data_OU/theta_OU.npy\")\n",
    "data = dict(x_0=x_0, y=y)\n",
    "def test_fn(x) : return x\n",
    "propagate, potential = propagate_OU, potential_OU"
   ]
  },
  {
   "cell_type": "code",
   "execution_count": null,
   "metadata": {
    "scrolled": true
   },
   "outputs": [
    {
     "name": "stdout",
     "output_type": "stream",
     "text": [
      "[rep,N,C] = [1, 2000, 101] in 24.2 seconds\n",
      "[rep,N,C] = [1, 2000, 201] in 38.6 seconds\n",
      "[rep,N,C] = [1, 2000, 301] in 51.3 seconds\n",
      "[rep,N,C] = [1, 2000, 401] in 48.5 seconds\n",
      "[rep,N,C] = [1, 2000, 501] in 60.6 seconds\n",
      "[rep,N,C] = [1, 3000, 101] in 42.2 seconds\n",
      "[rep,N,C] = [1, 3000, 201] in 61.5 seconds\n",
      "[rep,N,C] = [1, 3000, 301] in 81.4 seconds\n",
      "[rep,N,C] = [1, 3000, 401] in 102.0 seconds\n",
      "[rep,N,C] = [1, 3000, 501] in 116.8 seconds\n",
      "[rep,N,C] = [1, 4000, 101] in 62.0 seconds\n",
      "[rep,N,C] = [1, 4000, 201] in 92.3 seconds\n",
      "[rep,N,C] = [1, 4000, 301] in 120.6 seconds\n",
      "[rep,N,C] = [1, 4000, 401] in 143.5 seconds\n",
      "[rep,N,C] = [1, 4000, 501] in 176.6 seconds\n",
      "[rep,N,C] = [1, 5000, 101] in 92.9 seconds\n",
      "[rep,N,C] = [1, 5000, 201] in 128.4 seconds\n",
      "[rep,N,C] = [1, 5000, 301] in 162.4 seconds\n",
      "[rep,N,C] = [1, 5000, 401] in 161.9 seconds\n",
      "[rep,N,C] = [1, 5000, 501] in 217.9 seconds\n",
      "[rep,N,C] = [1, 6000, 101] in 105.8 seconds\n",
      "[rep,N,C] = [1, 6000, 201] in 127.1 seconds\n",
      "[rep,N,C] = [1, 6000, 301] in 212.0 seconds\n",
      "[rep,N,C] = [1, 6000, 401] in 246.9 seconds\n",
      "[rep,N,C] = [1, 6000, 501] in 300.2 seconds\n",
      "[rep,N,C] = [1, 7000, 101] in 162.4 seconds\n",
      "[rep,N,C] = [1, 7000, 201] in 195.1 seconds\n",
      "[rep,N,C] = [1, 7000, 301] in 261.6 seconds\n",
      "[rep,N,C] = [1, 7000, 401] in 310.6 seconds\n",
      "[rep,N,C] = [1, 7000, 501] in 339.2 seconds\n",
      "[rep,N,C] = [1, 8000, 101] in 184.8 seconds\n",
      "[rep,N,C] = [1, 8000, 201] in 269.4 seconds\n",
      "[rep,N,C] = [1, 8000, 301] in 313.8 seconds\n",
      "[rep,N,C] = [1, 8000, 401] in 385.5 seconds\n",
      "[rep,N,C] = [1, 8000, 501] in 461.1 seconds\n",
      "[rep,N,C] = [1, 9000, 101] in 254.2 seconds\n",
      "[rep,N,C] = [1, 9000, 201] in 319.1 seconds\n",
      "[rep,N,C] = [1, 9000, 301] in 373.9 seconds\n",
      "[rep,N,C] = [1, 9000, 401] in 351.0 seconds\n",
      "[rep,N,C] = [1, 9000, 501] in 476.0 seconds\n",
      "[rep,N,C] = [1, 10000, 101] in 285.8 seconds\n",
      "[rep,N,C] = [1, 10000, 201] in 326.2 seconds\n",
      "[rep,N,C] = [1, 10000, 301] in 413.0 seconds\n",
      "[rep,N,C] = [1, 10000, 401] in 526.9 seconds\n",
      "[rep,N,C] = [1, 10000, 501] in 579.7 seconds\n",
      "[rep,N,C] = [2, 2000, 101] in 24.4 seconds\n",
      "[rep,N,C] = [2, 2000, 201] in 35.3 seconds\n",
      "[rep,N,C] = [2, 2000, 301] in 51.8 seconds\n",
      "[rep,N,C] = [2, 2000, 401] in 53.4 seconds\n",
      "[rep,N,C] = [2, 2000, 501] in 81.8 seconds\n",
      "[rep,N,C] = [2, 3000, 101] in 46.9 seconds\n",
      "[rep,N,C] = [2, 3000, 201] in 70.6 seconds\n",
      "[rep,N,C] = [2, 3000, 301] in 91.2 seconds\n",
      "[rep,N,C] = [2, 3000, 401] in 110.0 seconds\n",
      "[rep,N,C] = [2, 3000, 501] in 128.5 seconds\n",
      "[rep,N,C] = [2, 4000, 101] in 70.7 seconds\n",
      "[rep,N,C] = [2, 4000, 201] in 99.6 seconds\n",
      "[rep,N,C] = [2, 4000, 301] in 103.0 seconds\n",
      "[rep,N,C] = [2, 4000, 401] in 150.8 seconds\n",
      "[rep,N,C] = [2, 4000, 501] in 176.9 seconds\n",
      "[rep,N,C] = [2, 5000, 101] in 94.4 seconds\n",
      "[rep,N,C] = [2, 5000, 201] in 128.9 seconds\n",
      "[rep,N,C] = [2, 5000, 301] in 169.1 seconds\n",
      "[rep,N,C] = [2, 5000, 401] in 198.8 seconds\n",
      "[rep,N,C] = [2, 5000, 501] in 239.9 seconds\n",
      "[rep,N,C] = [2, 6000, 101] in 124.0 seconds\n",
      "[rep,N,C] = [2, 6000, 201] in 153.2 seconds\n",
      "[rep,N,C] = [2, 6000, 301] in 212.8 seconds\n",
      "[rep,N,C] = [2, 6000, 401] in 254.1 seconds\n",
      "[rep,N,C] = [2, 6000, 501] in 306.0 seconds\n",
      "[rep,N,C] = [2, 7000, 101] in 160.6 seconds\n",
      "[rep,N,C] = [2, 7000, 201] in 213.9 seconds\n",
      "[rep,N,C] = [2, 7000, 301] in 264.7 seconds\n",
      "[rep,N,C] = [2, 7000, 401]"
     ]
    }
   ],
   "source": [
    "N_list = np.arange(2,11)*1000\n",
    "C_list = 100*np.arange(1,6)+1\n",
    "rep = 10\n",
    "logNC_bpf, testfn_bpf = np.zeros((rep,len(N_list))), np.zeros((rep,len(N_list)))\n",
    "logNC_alpha, testfn_alpha = np.zeros((rep,len(N_list),len(C_list))), np.zeros((rep,len(N_list),len(C_list)))\n",
    "\n",
    "start_overall = time()\n",
    "for r in range(rep) :\n",
    "    for (i,N) in enumerate(N_list) :\n",
    "        #Bootstrap PF:\n",
    "        logNC, testfn, _ = bootstrap_PF(data, theta, potential, propagate, test_fn, N, store_paths=False)\n",
    "        logNC_bpf[r,i], testfn_bpf[r,i] = logNC[-1], testfn[-1]\n",
    "        del logNC, testfn, _\n",
    "        gc.collect()\n",
    "        #alpha SMC:\n",
    "        for (j,C) in enumerate(C_list) :\n",
    "            alpha = d_regular_graph(N, C)\n",
    "            start = time()\n",
    "            logNC, testfn = alphaSMC(data, theta, potential, propagate, test_fn, alpha, \n",
    "                                     permute_alpha=True, show_progress=False)\n",
    "            logNC_alpha[r,i,j], testfn_alpha[r,i,j] = logNC[-1], testfn[-1] \n",
    "            print(\"[rep,N,C] =\", [r+1,N,C], \"in\", round(time() - start, 1), \"seconds\")\n",
    "            del logNC, testfn\n",
    "            gc.collect()"
   ]
  },
  {
   "cell_type": "code",
   "execution_count": null,
   "metadata": {
    "collapsed": true
   },
   "outputs": [],
   "source": [
    "i = 8\n",
    "np.save(\"/home/postdoc/dsen/Desktop/alphaSMC/data/data_OU/logNC_bpf\"+str(i), logNC_bpf)\n",
    "np.save(\"/home/postdoc/dsen/Desktop/alphaSMC/data/data_OU/logNC_alpha\"+str(i), logNC_alpha)\n",
    "np.save(\"/home/postdoc/dsen/Desktop/alphaSMC/data/data_OU/testfn_bpf\"+str(i), testfn_bpf)\n",
    "np.save(\"/home/postdoc/dsen/Desktop/alphaSMC/data/data_OU/testfn_alpha\"+str(i), testfn_alpha)"
   ]
  },
  {
   "cell_type": "code",
   "execution_count": null,
   "metadata": {
    "collapsed": true
   },
   "outputs": [],
   "source": []
  }
 ],
 "metadata": {
  "kernelspec": {
   "display_name": "Python 3",
   "language": "python",
   "name": "python3"
  },
  "language_info": {
   "codemirror_mode": {
    "name": "ipython",
    "version": 3
   },
   "file_extension": ".py",
   "mimetype": "text/x-python",
   "name": "python",
   "nbconvert_exporter": "python",
   "pygments_lexer": "ipython3",
   "version": "3.6.2"
  }
 },
 "nbformat": 4,
 "nbformat_minor": 2
}
