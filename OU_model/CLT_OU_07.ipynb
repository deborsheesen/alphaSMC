{
 "cells": [
  {
   "cell_type": "code",
   "execution_count": 1,
   "metadata": {
    "collapsed": true
   },
   "outputs": [],
   "source": [
    "from __future__ import division\n",
    "%matplotlib inline\n",
    "import numpy as np,  matplotlib.pyplot as plt, sys, gc\n",
    "from time import time\n",
    "from pylab import plot, show, legend\n",
    "sys.path.append('/home/postdoc/dsen/Desktop/alphaSMC')\n",
    "from PF import *\n",
    "sys.path.append('/home/postdoc/dsen/Desktop/alphaSMC/OU_model')\n",
    "from OU import *\n",
    "plt.rcParams['figure.figsize'] = (15.0, 3.0)"
   ]
  },
  {
   "cell_type": "code",
   "execution_count": 2,
   "metadata": {
    "collapsed": true
   },
   "outputs": [],
   "source": [
    "y = np.load(\"/home/postdoc/dsen/Desktop/alphaSMC/data/data_OU/y_OU.npy\")\n",
    "x_0 = np.load(\"/home/postdoc/dsen/Desktop/alphaSMC/data/data_OU/x_0_OU.npy\")\n",
    "theta = np.load(\"/home/postdoc/dsen/Desktop/alphaSMC/data/data_OU/theta_OU.npy\")\n",
    "data = dict(x_0=x_0, y=y)\n",
    "def test_fn(x) : return x\n",
    "propagate, potential = propagate_OU, potential_OU"
   ]
  },
  {
   "cell_type": "code",
   "execution_count": null,
   "metadata": {
    "scrolled": true
   },
   "outputs": [
    {
     "name": "stdout",
     "output_type": "stream",
     "text": [
      "[rep,N,C] = [1, 2000, 101] in 24.0 seconds\n",
      "[rep,N,C] = [1, 2000, 201] in 38.5 seconds\n",
      "[rep,N,C] = [1, 2000, 301] in 50.6 seconds\n",
      "[rep,N,C] = [1, 2000, 401] in 62.9 seconds\n",
      "[rep,N,C] = [1, 2000, 501] in 77.5 seconds\n",
      "[rep,N,C] = [1, 3000, 101] in 41.5 seconds\n",
      "[rep,N,C] = [1, 3000, 201] in 60.9 seconds\n",
      "[rep,N,C] = [1, 3000, 301] in 60.9 seconds\n",
      "[rep,N,C] = [1, 3000, 401] in 95.8 seconds\n",
      "[rep,N,C] = [1, 3000, 501] in 125.0 seconds\n",
      "[rep,N,C] = [1, 4000, 101] in 61.2 seconds\n",
      "[rep,N,C] = [1, 4000, 201] in 68.8 seconds\n",
      "[rep,N,C] = [1, 4000, 301] in 88.8 seconds\n",
      "[rep,N,C] = [1, 4000, 401] in 106.9 seconds\n",
      "[rep,N,C] = [1, 4000, 501] in 145.8 seconds\n",
      "[rep,N,C] = [1, 5000, 101] in 82.3 seconds\n",
      "[rep,N,C] = [1, 5000, 201] in 100.0 seconds\n",
      "[rep,N,C] = [1, 5000, 301] in 123.7 seconds\n",
      "[rep,N,C] = [1, 5000, 401] in 155.5 seconds\n",
      "[rep,N,C] = [1, 5000, 501] in 171.2 seconds\n",
      "[rep,N,C] = [1, 6000, 101] in 83.2 seconds\n",
      "[rep,N,C] = [1, 6000, 201] in 129.2 seconds\n",
      "[rep,N,C] = [1, 6000, 301] in 214.0 seconds\n",
      "[rep,N,C] = [1, 6000, 401] in 251.3 seconds\n",
      "[rep,N,C] = [1, 6000, 501] in 289.4 seconds\n",
      "[rep,N,C] = [1, 7000, 101] in 153.3 seconds\n",
      "[rep,N,C] = [1, 7000, 201] in 217.0 seconds\n",
      "[rep,N,C] = [1, 7000, 301] in 259.7 seconds\n",
      "[rep,N,C] = [1, 7000, 401] in 268.7 seconds\n",
      "[rep,N,C] = [1, 7000, 501] in 357.9 seconds\n",
      "[rep,N,C] = [1, 8000, 101] in 174.3 seconds\n",
      "[rep,N,C] = [1, 8000, 201] in 259.9 seconds\n",
      "[rep,N,C] = [1, 8000, 301] in 246.4 seconds\n",
      "[rep,N,C] = [1, 8000, 401] in 315.6 seconds\n",
      "[rep,N,C] = [1, 8000, 501] in 396.8 seconds\n",
      "[rep,N,C] = [1, 9000, 101] in 192.1 seconds\n",
      "[rep,N,C] = [1, 9000, 201] in 283.2 seconds\n",
      "[rep,N,C] = [1, 9000, 301] in 373.0 seconds\n",
      "[rep,N,C] = [1, 9000, 401] in 440.3 seconds\n",
      "[rep,N,C] = [1, 9000, 501] in 513.8 seconds\n",
      "[rep,N,C] = [1, 10000, 101] in 269.7 seconds\n",
      "[rep,N,C] = [1, 10000, 201] in 382.2 seconds\n",
      "[rep,N,C] = [1, 10000, 301] in 448.1 seconds\n",
      "[rep,N,C] = [1, 10000, 401] in 525.8 seconds\n",
      "[rep,N,C] = [1, 10000, 501] in 534.6 seconds\n",
      "[rep,N,C] = [2, 2000, 101] in 30.1 seconds\n",
      "[rep,N,C] = [2, 2000, 201] in 43.0 seconds\n",
      "[rep,N,C] = [2, 2000, 301] in 54.4 seconds\n",
      "[rep,N,C] = [2, 2000, 401] in 72.5 seconds\n",
      "[rep,N,C] = [2, 2000, 501] in 86.1 seconds\n",
      "[rep,N,C] = [2, 3000, 101] in 49.4 seconds\n",
      "[rep,N,C] = [2, 3000, 201] in 71.9 seconds\n",
      "[rep,N,C] = [2, 3000, 301] in 91.2 seconds\n",
      "[rep,N,C] = [2, 3000, 401] in 111.1 seconds\n",
      "[rep,N,C] = [2, 3000, 501] in 129.5 seconds\n",
      "[rep,N,C] = [2, 4000, 101] in 68.8 seconds\n",
      "[rep,N,C] = [2, 4000, 201] in 100.2 seconds\n",
      "[rep,N,C] = [2, 4000, 301] in 125.1 seconds\n",
      "[rep,N,C] = [2, 4000, 401] in 152.5 seconds\n",
      "[rep,N,C] = [2, 4000, 501] in 178.8 seconds\n",
      "[rep,N,C] = [2, 5000, 101] in 91.3 seconds\n",
      "[rep,N,C] = [2, 5000, 201] in 127.4 seconds\n",
      "[rep,N,C] = [2, 5000, 301] in 163.2 seconds\n",
      "[rep,N,C] = [2, 5000, 401] in 199.1 seconds\n",
      "[rep,N,C] = [2, 5000, 501] in 236.7 seconds\n",
      "[rep,N,C] = [2, 6000, 101] in 120.9 seconds\n",
      "[rep,N,C] = [2, 6000, 201] in 167.0 seconds\n",
      "[rep,N,C] = [2, 6000, 301] in 213.1 seconds\n",
      "[rep,N,C] = [2, 6000, 401] in 254.4 seconds\n",
      "[rep,N,C] = [2, 6000, 501] in 295.3 seconds\n",
      "[rep,N,C] = [2, 7000, 101] in 152.4 seconds\n",
      "[rep,N,C] = [2, 7000, 201] in 214.1 seconds\n",
      "[rep,N,C] = [2, 7000, 301] in 270.7 seconds\n",
      "[rep,N,C] = [2, 7000, 401] in 316.3 seconds\n",
      "[rep,N,C] = [2, 7000, 501] in 364.9 seconds\n"
     ]
    }
   ],
   "source": [
    "N_list = np.arange(2,11)*1000\n",
    "C_list = 100*np.arange(1,6)+1\n",
    "rep = 10\n",
    "logNC_bpf, testfn_bpf = np.zeros((rep,len(N_list))), np.zeros((rep,len(N_list)))\n",
    "logNC_alpha, testfn_alpha = np.zeros((rep,len(N_list),len(C_list))), np.zeros((rep,len(N_list),len(C_list)))\n",
    "\n",
    "start_overall = time()\n",
    "for r in range(rep) :\n",
    "    for (i,N) in enumerate(N_list) :\n",
    "        #Bootstrap PF:\n",
    "        logNC, testfn, _ = bootstrap_PF(data, theta, potential, propagate, test_fn, N, store_paths=False)\n",
    "        logNC_bpf[r,i], testfn_bpf[r,i] = logNC[-1], testfn[-1]\n",
    "        del logNC, testfn, _\n",
    "        gc.collect()\n",
    "        #alpha SMC:\n",
    "        for (j,C) in enumerate(C_list) :\n",
    "            alpha = d_regular_graph(N, C)\n",
    "            start = time()\n",
    "            logNC, testfn = alphaSMC(data, theta, potential, propagate, test_fn, alpha, \n",
    "                                     permute_alpha=True, show_progress=False)\n",
    "            logNC_alpha[r,i,j], testfn_alpha[r,i,j] = logNC[-1], testfn[-1] \n",
    "            print(\"[rep,N,C] =\", [r+1,N,C], \"in\", round(time() - start, 1), \"seconds\")\n",
    "            del logNC, testfn\n",
    "            gc.collect()"
   ]
  },
  {
   "cell_type": "code",
   "execution_count": null,
   "metadata": {
    "collapsed": true
   },
   "outputs": [],
   "source": [
    "i = 7\n",
    "np.save(\"/home/postdoc/dsen/Desktop/alphaSMC/data/data_OU/logNC_bpf\"+str(i), logNC_bpf)\n",
    "np.save(\"/home/postdoc/dsen/Desktop/alphaSMC/data/data_OU/logNC_alpha\"+str(i), logNC_alpha)\n",
    "np.save(\"/home/postdoc/dsen/Desktop/alphaSMC/data/data_OU/testfn_bpf\"+str(i), testfn_bpf)\n",
    "np.save(\"/home/postdoc/dsen/Desktop/alphaSMC/data/data_OU/testfn_alpha\"+str(i), testfn_alpha)"
   ]
  },
  {
   "cell_type": "code",
   "execution_count": null,
   "metadata": {
    "collapsed": true
   },
   "outputs": [],
   "source": []
  }
 ],
 "metadata": {
  "kernelspec": {
   "display_name": "Python 3",
   "language": "python",
   "name": "python3"
  },
  "language_info": {
   "codemirror_mode": {
    "name": "ipython",
    "version": 3
   },
   "file_extension": ".py",
   "mimetype": "text/x-python",
   "name": "python",
   "nbconvert_exporter": "python",
   "pygments_lexer": "ipython3",
   "version": "3.6.2"
  }
 },
 "nbformat": 4,
 "nbformat_minor": 2
}
