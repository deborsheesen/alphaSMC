{
 "cells": [
  {
   "cell_type": "code",
   "execution_count": 1,
   "metadata": {},
   "outputs": [],
   "source": [
    "from __future__ import division\n",
    "%matplotlib inline\n",
    "import numpy as np,  matplotlib.pyplot as plt, sys, gc\n",
    "from time import time\n",
    "from pylab import plot, show, legend\n",
    "sys.path.append('/home/postdoc/dsen/Desktop/alphaSMC')\n",
    "from PF import *\n",
    "sys.path.append('/home/postdoc/dsen/Desktop/alphaSMC/OU_model')\n",
    "from OU import *\n",
    "plt.rcParams['figure.figsize'] = (15.0, 3.0)"
   ]
  },
  {
   "cell_type": "code",
   "execution_count": 2,
   "metadata": {
    "collapsed": true
   },
   "outputs": [],
   "source": [
    "y = np.load(\"/home/postdoc/dsen/Desktop/alphaSMC/data/data_OU/y_OU.npy\")\n",
    "x_0 = np.load(\"/home/postdoc/dsen/Desktop/alphaSMC/data/data_OU/x_0_OU.npy\")\n",
    "theta = np.load(\"/home/postdoc/dsen/Desktop/alphaSMC/data/data_OU/theta_OU.npy\")\n",
    "data = dict(x_0=x_0, y=y)\n",
    "def test_fn(x) : return x\n",
    "propagate, potential = propagate_OU, potential_OU"
   ]
  },
  {
   "cell_type": "code",
   "execution_count": null,
   "metadata": {
    "scrolled": true
   },
   "outputs": [
    {
     "name": "stdout",
     "output_type": "stream",
     "text": [
      "[rep,N,C] = [1, 2000, 101] in 13.1 seconds\n",
      "[rep,N,C] = [1, 2000, 201] in 28.4 seconds\n",
      "[rep,N,C] = [1, 2000, 301] in 46.9 seconds\n",
      "[rep,N,C] = [1, 2000, 401] in 62.9 seconds\n",
      "[rep,N,C] = [1, 2000, 501] in 75.3 seconds\n",
      "[rep,N,C] = [1, 3000, 101] in 41.5 seconds\n",
      "[rep,N,C] = [1, 3000, 201] in 61.2 seconds\n",
      "[rep,N,C] = [1, 3000, 301] in 82.2 seconds\n",
      "[rep,N,C] = [1, 3000, 401] in 94.3 seconds\n",
      "[rep,N,C] = [1, 3000, 501] in 121.4 seconds\n",
      "[rep,N,C] = [1, 4000, 101] in 67.1 seconds\n",
      "[rep,N,C] = [1, 4000, 201] in 91.5 seconds\n",
      "[rep,N,C] = [1, 4000, 301] in 120.8 seconds\n",
      "[rep,N,C] = [1, 4000, 401] in 142.1 seconds\n",
      "[rep,N,C] = [1, 4000, 501] in 147.3 seconds\n",
      "[rep,N,C] = [1, 5000, 101] in 95.1 seconds\n",
      "[rep,N,C] = [1, 5000, 201] in 132.7 seconds\n",
      "[rep,N,C] = [1, 5000, 301] in 164.3 seconds\n",
      "[rep,N,C] = [1, 5000, 401] in 199.7 seconds\n",
      "[rep,N,C] = [1, 5000, 501] in 234.8 seconds\n",
      "[rep,N,C] = [1, 6000, 101] in 125.9 seconds\n",
      "[rep,N,C] = [1, 6000, 201] in 167.5 seconds\n",
      "[rep,N,C] = [1, 6000, 301] in 209.9 seconds\n",
      "[rep,N,C] = [1, 6000, 401] in 248.6 seconds\n",
      "[rep,N,C] = [1, 6000, 501] in 308.3 seconds\n",
      "[rep,N,C] = [1, 7000, 101] in 144.1 seconds\n",
      "[rep,N,C] = [1, 7000, 201] in 211.5 seconds\n",
      "[rep,N,C] = [1, 7000, 301] in 257.7 seconds\n",
      "[rep,N,C] = [1, 7000, 401] in 244.0 seconds\n",
      "[rep,N,C] = [1, 7000, 501] in 376.4 seconds\n",
      "[rep,N,C] = [1, 8000, 101] in 208.1 seconds\n",
      "[rep,N,C] = [1, 8000, 201] in 263.2 seconds\n",
      "[rep,N,C] = [1, 8000, 301] in 309.5 seconds\n",
      "[rep,N,C] = [1, 8000, 401] in 385.8 seconds\n",
      "[rep,N,C] = [1, 8000, 501] in 465.7 seconds\n",
      "[rep,N,C] = [1, 9000, 101] in 243.3 seconds\n",
      "[rep,N,C] = [1, 9000, 201] in 309.9 seconds\n",
      "[rep,N,C] = [1, 9000, 301] in 378.2 seconds\n",
      "[rep,N,C] = [1, 9000, 401] in 450.3 seconds\n",
      "[rep,N,C] = [1, 9000, 501] in 542.8 seconds\n",
      "[rep,N,C] = [1, 10000, 101] in 221.3 seconds\n",
      "[rep,N,C] = [1, 10000, 201] in 364.5 seconds\n",
      "[rep,N,C] = [1, 10000, 301] in 410.5 seconds\n",
      "[rep,N,C] = [1, 10000, 401] in 487.0 seconds\n",
      "[rep,N,C] = [1, 10000, 501] in 501.0 seconds\n",
      "[rep,N,C] = [2, 2000, 101] in 20.5 seconds\n",
      "[rep,N,C] = [2, 2000, 201] in 33.1 seconds\n",
      "[rep,N,C] = [2, 2000, 301] in 47.9 seconds\n",
      "[rep,N,C] = [2, 2000, 401] in 57.7 seconds\n",
      "[rep,N,C] = [2, 2000, 501] in 82.3 seconds\n",
      "[rep,N,C] = [2, 3000, 101] in 48.8 seconds\n",
      "[rep,N,C] = [2, 3000, 201] in 68.2 seconds\n",
      "[rep,N,C] = [2, 3000, 301] in 68.8 seconds\n",
      "[rep,N,C] = [2, 3000, 401] in 98.1 seconds\n",
      "[rep,N,C] = [2, 3000, 501] in 131.1 seconds\n",
      "[rep,N,C] = [2, 4000, 101] in 68.8 seconds\n",
      "[rep,N,C] = [2, 4000, 201] in 91.5 seconds\n",
      "[rep,N,C] = [2, 4000, 301] in 123.4 seconds\n",
      "[rep,N,C] = [2, 4000, 401] in 129.7 seconds\n",
      "[rep,N,C] = [2, 4000, 501] in 177.4 seconds\n",
      "[rep,N,C] = [2, 5000, 101] in 88.5 seconds\n",
      "[rep,N,C] = [2, 5000, 201] in 106.1 seconds\n",
      "[rep,N,C] = [2, 5000, 301] in 165.4 seconds\n",
      "[rep,N,C] = [2, 5000, 401] in 192.6 seconds\n",
      "[rep,N,C] = [2, 5000, 501] in 227.6 seconds\n",
      "[rep,N,C] = [2, 6000, 101] in 125.2 seconds\n",
      "[rep,N,C] = [2, 6000, 201] in 145.7 seconds\n",
      "[rep,N,C] = [2, 6000, 301] in 158.5 seconds\n",
      "[rep,N,C] = [2, 6000, 401] in 203.5 seconds\n",
      "[rep,N,C] = [2, 6000, 501] in 306.7 seconds\n",
      "[rep,N,C] = [2, 7000, 101] in 159.9 seconds\n",
      "[rep,N,C] = [2, 7000, 201] in 197.7 seconds\n",
      "[rep,N,C] = [2, 7000, 301] in 201.8 seconds\n",
      "[rep,N,C] = [2, 7000, 401] in 313.0 seconds\n"
     ]
    }
   ],
   "source": [
    "N_list = np.arange(2,11)*1000\n",
    "C_list = 100*np.arange(1,6)+1\n",
    "rep = 10\n",
    "logNC_bpf, testfn_bpf = np.zeros((rep,len(N_list))), np.zeros((rep,len(N_list)))\n",
    "logNC_alpha, testfn_alpha = np.zeros((rep,len(N_list),len(C_list))), np.zeros((rep,len(N_list),len(C_list)))\n",
    "\n",
    "start_overall = time()\n",
    "for r in range(rep) :\n",
    "    for (i,N) in enumerate(N_list) :\n",
    "        #Bootstrap PF:\n",
    "        logNC, testfn, _ = bootstrap_PF(data, theta, potential, propagate, test_fn, N, store_paths=False)\n",
    "        logNC_bpf[r,i], testfn_bpf[r,i] = logNC[-1], testfn[-1]\n",
    "        del logNC, testfn, _\n",
    "        gc.collect()\n",
    "        #alpha SMC:\n",
    "        for (j,C) in enumerate(C_list) :\n",
    "            alpha = d_regular_graph(N, C)\n",
    "            start = time()\n",
    "            logNC, testfn = alphaSMC(data, theta, potential, propagate, test_fn, alpha, \n",
    "                                     permute_alpha=True, show_progress=False)\n",
    "            logNC_alpha[r,i,j], testfn_alpha[r,i,j] = logNC[-1], testfn[-1] \n",
    "            print(\"[rep,N,C] =\", [r+1,N,C], \"in\", round(time() - start, 1), \"seconds\")\n",
    "            del logNC, testfn\n",
    "            gc.collect()"
   ]
  },
  {
   "cell_type": "code",
   "execution_count": null,
   "metadata": {
    "collapsed": true
   },
   "outputs": [],
   "source": [
    "i = 4\n",
    "np.save(\"/home/postdoc/dsen/Desktop/alphaSMC/data/data_OU/logNC_bpf\"+str(i), logNC_bpf)\n",
    "np.save(\"/home/postdoc/dsen/Desktop/alphaSMC/data/data_OU/logNC_alpha\"+str(i), logNC_alpha)\n",
    "np.save(\"/home/postdoc/dsen/Desktop/alphaSMC/data/data_OU/testfn_bpf\"+str(i), testfn_bpf)\n",
    "np.save(\"/home/postdoc/dsen/Desktop/alphaSMC/data/data_OU/testfn_alpha\"+str(i), testfn_alpha)"
   ]
  },
  {
   "cell_type": "code",
   "execution_count": null,
   "metadata": {
    "collapsed": true
   },
   "outputs": [],
   "source": []
  }
 ],
 "metadata": {
  "kernelspec": {
   "display_name": "Python 3",
   "language": "python",
   "name": "python3"
  },
  "language_info": {
   "codemirror_mode": {
    "name": "ipython",
    "version": 3
   },
   "file_extension": ".py",
   "mimetype": "text/x-python",
   "name": "python",
   "nbconvert_exporter": "python",
   "pygments_lexer": "ipython3",
   "version": "3.6.2"
  }
 },
 "nbformat": 4,
 "nbformat_minor": 2
}
