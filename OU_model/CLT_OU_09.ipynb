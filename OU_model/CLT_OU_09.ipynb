{
 "cells": [
  {
   "cell_type": "code",
   "execution_count": 1,
   "metadata": {
    "collapsed": true
   },
   "outputs": [],
   "source": [
    "from __future__ import division\n",
    "%matplotlib inline\n",
    "import numpy as np,  matplotlib.pyplot as plt, sys, gc\n",
    "from time import time\n",
    "from pylab import plot, show, legend\n",
    "sys.path.append('/home/postdoc/dsen/Desktop/alphaSMC')\n",
    "from PF import *\n",
    "sys.path.append('/home/postdoc/dsen/Desktop/alphaSMC/OU_model')\n",
    "from OU import *\n",
    "plt.rcParams['figure.figsize'] = (15.0, 3.0)"
   ]
  },
  {
   "cell_type": "code",
   "execution_count": 2,
   "metadata": {
    "collapsed": true
   },
   "outputs": [],
   "source": [
    "y = np.load(\"/home/postdoc/dsen/Desktop/alphaSMC/data/data_OU/y_OU.npy\")\n",
    "x_0 = np.load(\"/home/postdoc/dsen/Desktop/alphaSMC/data/data_OU/x_0_OU.npy\")\n",
    "theta = np.load(\"/home/postdoc/dsen/Desktop/alphaSMC/data/data_OU/theta_OU.npy\")\n",
    "data = dict(x_0=x_0, y=y)\n",
    "def test_fn(x) : return x\n",
    "propagate, potential = propagate_OU, potential_OU"
   ]
  },
  {
   "cell_type": "code",
   "execution_count": null,
   "metadata": {
    "scrolled": true
   },
   "outputs": [
    {
     "name": "stdout",
     "output_type": "stream",
     "text": [
      "[rep,N,C] = [1, 2000, 101] in 24.2 seconds\n",
      "[rep,N,C] = [1, 2000, 201] in 32.9 seconds\n",
      "[rep,N,C] = [1, 2000, 301] in 37.9 seconds\n",
      "[rep,N,C] = [1, 2000, 401] in 62.6 seconds\n",
      "[rep,N,C] = [1, 2000, 501] in 76.4 seconds\n",
      "[rep,N,C] = [1, 3000, 101] in 42.1 seconds\n",
      "[rep,N,C] = [1, 3000, 201] in 61.2 seconds\n",
      "[rep,N,C] = [1, 3000, 301] in 81.2 seconds\n",
      "[rep,N,C] = [1, 3000, 401] in 101.3 seconds\n",
      "[rep,N,C] = [1, 3000, 501] in 123.5 seconds\n",
      "[rep,N,C] = [1, 4000, 101] in 63.0 seconds\n",
      "[rep,N,C] = [1, 4000, 201] in 91.4 seconds\n",
      "[rep,N,C] = [1, 4000, 301] in 119.6 seconds\n",
      "[rep,N,C] = [1, 4000, 401] in 143.4 seconds\n",
      "[rep,N,C] = [1, 4000, 501] in 178.8 seconds\n",
      "[rep,N,C] = [1, 5000, 101] in 91.2 seconds\n",
      "[rep,N,C] = [1, 5000, 201] in 121.7 seconds\n",
      "[rep,N,C] = [1, 5000, 301] in 149.4 seconds\n",
      "[rep,N,C] = [1, 5000, 401] in 194.9 seconds\n",
      "[rep,N,C] = [1, 5000, 501] in 237.6 seconds\n",
      "[rep,N,C] = [1, 6000, 101] in 124.3 seconds\n",
      "[rep,N,C] = [1, 6000, 201] in 168.0 seconds\n",
      "[rep,N,C] = [1, 6000, 301] in 208.4 seconds\n",
      "[rep,N,C] = [1, 6000, 401] in 250.0 seconds\n",
      "[rep,N,C] = [1, 6000, 501] in 308.3 seconds\n",
      "[rep,N,C] = [1, 7000, 101] in 145.9 seconds\n",
      "[rep,N,C] = [1, 7000, 201] in 208.7 seconds\n",
      "[rep,N,C] = [1, 7000, 301] in 258.3 seconds\n",
      "[rep,N,C] = [1, 7000, 401] in 296.7 seconds\n",
      "[rep,N,C] = [1, 7000, 501] in 325.7 seconds\n",
      "[rep,N,C] = [1, 8000, 101] in 206.4 seconds\n",
      "[rep,N,C] = [1, 8000, 201] in 262.7 seconds\n",
      "[rep,N,C] = [1, 8000, 301] in 318.0 seconds\n",
      "[rep,N,C] = [1, 8000, 401] in 344.5 seconds\n",
      "[rep,N,C] = [1, 8000, 501] in 451.7 seconds\n",
      "[rep,N,C] = [1, 9000, 101] in 244.0 seconds\n",
      "[rep,N,C] = [1, 9000, 201] in 314.6 seconds\n",
      "[rep,N,C] = [1, 9000, 301] in 337.6 seconds\n",
      "[rep,N,C] = [1, 9000, 401] in 417.3 seconds\n",
      "[rep,N,C] = [1, 9000, 501] in 508.7 seconds\n",
      "[rep,N,C] = [1, 10000, 101] in 294.2 seconds\n",
      "[rep,N,C] = [1, 10000, 201] in 374.5 seconds\n",
      "[rep,N,C] = [1, 10000, 301] in 441.6 seconds\n",
      "[rep,N,C] = [1, 10000, 401] in 522.8 seconds\n",
      "[rep,N,C] = [1, 10000, 501] in 579.2 seconds\n",
      "[rep,N,C] = [2, 2000, 101] in 27.7 seconds\n",
      "[rep,N,C] = [2, 2000, 201] in 43.3 seconds\n",
      "[rep,N,C] = [2, 2000, 301] in 57.3 seconds\n",
      "[rep,N,C] = [2, 2000, 401] in 70.0 seconds\n",
      "[rep,N,C] = [2, 2000, 501] in 83.2 seconds\n",
      "[rep,N,C] = [2, 3000, 101] in 45.2 seconds\n",
      "[rep,N,C] = [2, 3000, 201] in 70.3 seconds\n",
      "[rep,N,C] = [2, 3000, 301] in 80.3 seconds\n",
      "[rep,N,C] = [2, 3000, 401] in 83.0 seconds\n",
      "[rep,N,C] = [2, 3000, 501] in 99.3 seconds\n",
      "[rep,N,C] = [2, 4000, 101] in 68.8 seconds\n",
      "[rep,N,C] = [2, 4000, 201] in 99.9 seconds\n",
      "[rep,N,C] = [2, 4000, 301] in 123.0 seconds\n",
      "[rep,N,C] = [2, 4000, 401] in 150.6 seconds\n",
      "[rep,N,C] = [2, 4000, 501] in 149.8 seconds\n",
      "[rep,N,C] = [2, 5000, 101] in 71.2 seconds\n",
      "[rep,N,C] = [2, 5000, 201] in 100.1 seconds\n",
      "[rep,N,C] = [2, 5000, 301] in 125.0 seconds\n",
      "[rep,N,C] = [2, 5000, 401] in 150.7 seconds\n",
      "[rep,N,C] = [2, 5000, 501] in 209.8 seconds\n",
      "[rep,N,C] = [2, 6000, 101] in 123.3 seconds\n",
      "[rep,N,C] = [2, 6000, 201] in 130.8 seconds\n",
      "[rep,N,C] = [2, 6000, 301] in 197.4 seconds\n",
      "[rep,N,C] = [2, 6000, 401] in 254.7 seconds\n",
      "[rep,N,C] = [2, 6000, 501] in 307.2 seconds\n",
      "[rep,N,C] = [2, 7000, 101] in 160.3 seconds\n",
      "[rep,N,C] = [2, 7000, 201] in 216.0 seconds\n",
      "[rep,N,C] = [2, 7000, 301] in 265.9 seconds\n",
      "[rep,N,C] = [2, 7000, 401] in 274.1 seconds\n"
     ]
    }
   ],
   "source": [
    "N_list = np.arange(2,11)*1000\n",
    "C_list = 100*np.arange(1,6)+1\n",
    "rep = 10\n",
    "logNC_bpf, testfn_bpf = np.zeros((rep,len(N_list))), np.zeros((rep,len(N_list)))\n",
    "logNC_alpha, testfn_alpha = np.zeros((rep,len(N_list),len(C_list))), np.zeros((rep,len(N_list),len(C_list)))\n",
    "\n",
    "start_overall = time()\n",
    "for r in range(rep) :\n",
    "    for (i,N) in enumerate(N_list) :\n",
    "        #Bootstrap PF:\n",
    "        logNC, testfn, _ = bootstrap_PF(data, theta, potential, propagate, test_fn, N, store_paths=False)\n",
    "        logNC_bpf[r,i], testfn_bpf[r,i] = logNC[-1], testfn[-1]\n",
    "        del logNC, testfn, _\n",
    "        gc.collect()\n",
    "        #alpha SMC:\n",
    "        for (j,C) in enumerate(C_list) :\n",
    "            alpha = d_regular_graph(N, C)\n",
    "            start = time()\n",
    "            logNC, testfn = alphaSMC(data, theta, potential, propagate, test_fn, alpha, \n",
    "                                     permute_alpha=True, show_progress=False)\n",
    "            logNC_alpha[r,i,j], testfn_alpha[r,i,j] = logNC[-1], testfn[-1] \n",
    "            print(\"[rep,N,C] =\", [r+1,N,C], \"in\", round(time() - start, 1), \"seconds\")\n",
    "            del logNC, testfn\n",
    "            gc.collect()"
   ]
  },
  {
   "cell_type": "code",
   "execution_count": null,
   "metadata": {
    "collapsed": true
   },
   "outputs": [],
   "source": [
    "i = 9\n",
    "np.save(\"/home/postdoc/dsen/Desktop/alphaSMC/data/data_OU/logNC_bpf\"+str(i), logNC_bpf)\n",
    "np.save(\"/home/postdoc/dsen/Desktop/alphaSMC/data/data_OU/logNC_alpha\"+str(i), logNC_alpha)\n",
    "np.save(\"/home/postdoc/dsen/Desktop/alphaSMC/data/data_OU/testfn_bpf\"+str(i), testfn_bpf)\n",
    "np.save(\"/home/postdoc/dsen/Desktop/alphaSMC/data/data_OU/testfn_alpha\"+str(i), testfn_alpha)"
   ]
  },
  {
   "cell_type": "code",
   "execution_count": null,
   "metadata": {
    "collapsed": true
   },
   "outputs": [],
   "source": []
  }
 ],
 "metadata": {
  "kernelspec": {
   "display_name": "Python 3",
   "language": "python",
   "name": "python3"
  },
  "language_info": {
   "codemirror_mode": {
    "name": "ipython",
    "version": 3
   },
   "file_extension": ".py",
   "mimetype": "text/x-python",
   "name": "python",
   "nbconvert_exporter": "python",
   "pygments_lexer": "ipython3",
   "version": "3.6.2"
  }
 },
 "nbformat": 4,
 "nbformat_minor": 2
}
