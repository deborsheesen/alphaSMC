{
 "cells": [
  {
   "cell_type": "code",
   "execution_count": null,
   "metadata": {
    "collapsed": true
   },
   "outputs": [],
   "source": [
    "from __future__ import division\n",
    "%matplotlib inline\n",
    "from mpl_toolkits.mplot3d import Axes3D\n",
    "import numpy as np,  matplotlib.pyplot as plt, gc, math\n",
    "from time import time\n",
    "from pylab import plot, show, legend\n",
    "from PF import *\n",
    "from OU import *\n",
    "plt.rcParams['figure.figsize'] = (15.0, 3.0)"
   ]
  },
  {
   "cell_type": "code",
   "execution_count": null,
   "metadata": {
    "collapsed": true
   },
   "outputs": [],
   "source": [
    "y = np.load(\"data/y_OU.npy\")\n",
    "x_0 = np.load(\"data/x_0_OU.npy\")\n",
    "theta = np.load(\"data/theta_OU.npy\")\n",
    "data = dict(x_0=x_0, y=y)\n",
    "def test_fn(x) : return x\n",
    "propagate, potential = propagate_OU, potential_OU"
   ]
  },
  {
   "cell_type": "code",
   "execution_count": null,
   "metadata": {},
   "outputs": [],
   "source": [
    "# pow_list = np.arange(4,7)\n",
    "d_list = 100*np.arange(1,6)\n",
    "# N_list = 2**pow_list\n",
    "N_list = np.arange(1,11)*1000\n",
    "rep = 10\n",
    "logNC_bpf, testfn_bpf = np.zeros((rep,len(N_list))), np.zeros((rep,len(N_list)))\n",
    "# logNC_airpf, testfn_airpf = np.zeros((len(N_list),rep)), np.zeros((len(N_list),rep))\n",
    "logNC_alpha, testfn_alpha = np.zeros((rep,len(N_list),len(d_list))), np.zeros((rep,len(N_list),len(d_list)))\n",
    "for r in trange(rep) :\n",
    "    for (i,N) in enumerate(N_list) :\n",
    "        #Bootstrap PF:\n",
    "        logNC, testfn, _ = bootstrap_PF(data, theta, potential, propagate, test_fn, N, store_paths=False)\n",
    "        logNC_bpf[r,i], testfn_bpf[r,i] = logNC[-1], testfn[-1]\n",
    "#         #AIRPF:\n",
    "#         A = A_(int(math.log(N,2)))\n",
    "#         logNC, testfn, _ = AIRPF(data, theta, potential, propagate, test_fn, A, store_paths=False)\n",
    "#         logNC_airpf[i,r], testfn_airpf[i,r] = logNC[-1], testfn[-1]\n",
    "        #alpha SMC:\n",
    "        for (j,d) in enumerate(d_list) :\n",
    "            logNC, testfn = alphaSMC(data, theta, potential, propagate, test_fn, N, d, \"random\")\n",
    "            logNC_alpha[r,i,j], testfn_alpha[r,i,j] = logNC[-1], testfn[-1]\n",
    "        del logNC, testfn, _\n",
    "        gc.collect()"
   ]
  },
  {
   "cell_type": "code",
   "execution_count": null,
   "metadata": {
    "collapsed": true
   },
   "outputs": [],
   "source": [
    "i = 9\n",
    "np.save(\"data/logNC_bpf\"+str(i), logNC_bpf)\n",
    "np.save(\"data/logNC_alpha\"+str(i), logNC_alpha)\n",
    "# np.save(\"data/logNC_airpf\"+str(i), logNC_airpf)\n",
    "\n",
    "np.save(\"data/testfn_bpf\"+str(i), testfn_bpf)\n",
    "np.save(\"data/testfn_alpha\"+str(i), testfn_alpha)\n",
    "# np.save(\"data/testfn_airpf\"+str(i), testfn_airpf)"
   ]
  },
  {
   "cell_type": "code",
   "execution_count": null,
   "metadata": {
    "collapsed": true
   },
   "outputs": [],
   "source": []
  }
 ],
 "metadata": {
  "kernelspec": {
   "display_name": "Python 3",
   "language": "python",
   "name": "python3"
  },
  "language_info": {
   "codemirror_mode": {
    "name": "ipython",
    "version": 3
   },
   "file_extension": ".py",
   "mimetype": "text/x-python",
   "name": "python",
   "nbconvert_exporter": "python",
   "pygments_lexer": "ipython3",
   "version": "3.6.2"
  }
 },
 "nbformat": 4,
 "nbformat_minor": 2
}
