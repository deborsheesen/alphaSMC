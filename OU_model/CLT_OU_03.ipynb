{
 "cells": [
  {
   "cell_type": "code",
   "execution_count": 1,
   "metadata": {
    "collapsed": true
   },
   "outputs": [],
   "source": [
    "from __future__ import division\n",
    "%matplotlib inline\n",
    "import numpy as np,  matplotlib.pyplot as plt, sys, gc\n",
    "from time import time\n",
    "from pylab import plot, show, legend\n",
    "sys.path.append('/home/postdoc/dsen/Desktop/alphaSMC')\n",
    "from PF import *\n",
    "sys.path.append('/home/postdoc/dsen/Desktop/alphaSMC/OU_model')\n",
    "from OU import *\n",
    "plt.rcParams['figure.figsize'] = (15.0, 3.0)"
   ]
  },
  {
   "cell_type": "code",
   "execution_count": 2,
   "metadata": {
    "collapsed": true
   },
   "outputs": [],
   "source": [
    "y = np.load(\"/home/postdoc/dsen/Desktop/alphaSMC/data/data_OU/y_OU.npy\")\n",
    "x_0 = np.load(\"/home/postdoc/dsen/Desktop/alphaSMC/data/data_OU/x_0_OU.npy\")\n",
    "theta = np.load(\"/home/postdoc/dsen/Desktop/alphaSMC/data/data_OU/theta_OU.npy\")\n",
    "data = dict(x_0=x_0, y=y)\n",
    "def test_fn(x) : return x\n",
    "propagate, potential = propagate_OU, potential_OU"
   ]
  },
  {
   "cell_type": "code",
   "execution_count": null,
   "metadata": {
    "scrolled": true
   },
   "outputs": [
    {
     "name": "stdout",
     "output_type": "stream",
     "text": [
      "[rep,N,C] = [1, 2000, 101] in 10.4 seconds\n",
      "[rep,N,C] = [1, 2000, 201] in 30.0 seconds\n",
      "[rep,N,C] = [1, 2000, 301] in 50.3 seconds\n",
      "[rep,N,C] = [1, 2000, 401] in 57.5 seconds\n",
      "[rep,N,C] = [1, 2000, 501] in 76.8 seconds\n",
      "[rep,N,C] = [1, 3000, 101] in 37.4 seconds\n",
      "[rep,N,C] = [1, 3000, 201] in 48.0 seconds\n",
      "[rep,N,C] = [1, 3000, 301] in 77.8 seconds\n",
      "[rep,N,C] = [1, 3000, 401] in 97.2 seconds\n",
      "[rep,N,C] = [1, 3000, 501] in 120.3 seconds\n",
      "[rep,N,C] = [1, 4000, 101] in 65.0 seconds\n",
      "[rep,N,C] = [1, 4000, 201] in 89.5 seconds\n",
      "[rep,N,C] = [1, 4000, 301] in 119.4 seconds\n",
      "[rep,N,C] = [1, 4000, 401] in 142.5 seconds\n",
      "[rep,N,C] = [1, 4000, 501] in 172.5 seconds\n",
      "[rep,N,C] = [1, 5000, 101] in 93.0 seconds\n",
      "[rep,N,C] = [1, 5000, 201] in 130.9 seconds\n",
      "[rep,N,C] = [1, 5000, 301] in 155.9 seconds\n",
      "[rep,N,C] = [1, 5000, 401] in 192.9 seconds\n",
      "[rep,N,C] = [1, 5000, 501] in 230.8 seconds\n",
      "[rep,N,C] = [1, 6000, 101] in 125.2 seconds\n",
      "[rep,N,C] = [1, 6000, 201] in 165.4 seconds\n",
      "[rep,N,C] = [1, 6000, 301] in 197.7 seconds\n",
      "[rep,N,C] = [1, 6000, 401] in 252.3 seconds\n",
      "[rep,N,C] = [1, 6000, 501] in 290.6 seconds\n",
      "[rep,N,C] = [1, 7000, 101] in 166.9 seconds\n",
      "[rep,N,C] = [1, 7000, 201] in 216.9 seconds\n",
      "[rep,N,C] = [1, 7000, 301] in 265.1 seconds\n",
      "[rep,N,C] = [1, 7000, 401] in 315.8 seconds\n",
      "[rep,N,C] = [1, 7000, 501] in 379.1 seconds\n",
      "[rep,N,C] = [1, 8000, 101] in 207.3 seconds\n",
      "[rep,N,C] = [1, 8000, 201] in 211.7 seconds\n",
      "[rep,N,C] = [1, 8000, 301] in 298.5 seconds\n",
      "[rep,N,C] = [1, 8000, 401] in 372.9 seconds\n",
      "[rep,N,C] = [1, 8000, 501] in 343.6 seconds\n",
      "[rep,N,C] = [1, 9000, 101] in 188.3 seconds\n",
      "[rep,N,C] = [1, 9000, 201] in 300.9 seconds\n",
      "[rep,N,C] = [1, 9000, 301] in 353.8 seconds\n",
      "[rep,N,C] = [1, 9000, 401] in 447.1 seconds\n",
      "[rep,N,C] = [1, 9000, 501] in 389.6 seconds\n",
      "[rep,N,C] = [1, 10000, 101] in 222.7 seconds\n",
      "[rep,N,C] = [1, 10000, 201] in 352.8 seconds\n",
      "[rep,N,C] = [1, 10000, 301] in 397.3 seconds\n",
      "[rep,N,C] = [1, 10000, 401] in 441.0 seconds\n",
      "[rep,N,C] = [1, 10000, 501] in 492.8 seconds\n",
      "[rep,N,C] = [2, 2000, 101] in 28.2 seconds\n",
      "[rep,N,C] = [2, 2000, 201] in 29.5 seconds\n",
      "[rep,N,C] = [2, 2000, 301] in 42.5 seconds\n",
      "[rep,N,C] = [2, 2000, 401] in 55.3 seconds\n",
      "[rep,N,C] = [2, 2000, 501] in 65.3 seconds\n",
      "[rep,N,C] = [2, 3000, 101] in 37.3 seconds\n",
      "[rep,N,C] = [2, 3000, 201] in 55.4 seconds\n",
      "[rep,N,C] = [2, 3000, 301] in 69.5 seconds\n",
      "[rep,N,C] = [2, 3000, 401] in 101.6 seconds\n",
      "[rep,N,C] = [2, 3000, 501] in 121.9 seconds\n",
      "[rep,N,C] = [2, 4000, 101] in 53.2 seconds\n",
      "[rep,N,C] = [2, 4000, 201] in 75.7 seconds\n",
      "[rep,N,C] = [2, 4000, 301] in 94.5 seconds\n",
      "[rep,N,C] = [2, 4000, 401] in 127.2 seconds\n",
      "[rep,N,C] = [2, 4000, 501] in 133.6 seconds\n",
      "[rep,N,C] = [2, 5000, 101] in 72.2 seconds\n",
      "[rep,N,C] = [2, 5000, 201] in 99.0 seconds\n",
      "[rep,N,C] = [2, 5000, 301] in 163.3 seconds\n",
      "[rep,N,C] = [2, 5000, 401] in 200.4 seconds\n",
      "[rep,N,C] = [2, 5000, 501] in 187.1 seconds\n",
      "[rep,N,C] = [2, 6000, 101] in 102.4 seconds\n",
      "[rep,N,C] = [2, 6000, 201] in 152.6 seconds\n",
      "[rep,N,C] = [2, 6000, 301] in 208.5 seconds\n",
      "[rep,N,C] = [2, 6000, 401] in 234.6 seconds\n",
      "[rep,N,C] = [2, 6000, 501] in 279.3 seconds\n",
      "[rep,N,C] = [2, 7000, 101] in 153.8 seconds\n",
      "[rep,N,C] = [2, 7000, 201] in 207.9 seconds\n",
      "[rep,N,C] = [2, 7000, 301] in 207.8 seconds\n",
      "[rep,N,C] = [2, 7000, 401] in 282.8 seconds\n",
      "[rep,N,C] = [2, 7000, 501] in 310.7 seconds\n",
      "[rep,N,C] = [2, 8000, 101] in 148.5 seconds\n",
      "[rep,N,C] = [2, 8000, 201] in 196.3 seconds\n"
     ]
    }
   ],
   "source": [
    "N_list = np.arange(2,11)*1000\n",
    "C_list = 100*np.arange(1,6)+1\n",
    "rep = 10\n",
    "logNC_bpf, testfn_bpf = np.zeros((rep,len(N_list))), np.zeros((rep,len(N_list)))\n",
    "logNC_alpha, testfn_alpha = np.zeros((rep,len(N_list),len(C_list))), np.zeros((rep,len(N_list),len(C_list)))\n",
    "\n",
    "start_overall = time()\n",
    "for r in range(rep) :\n",
    "    for (i,N) in enumerate(N_list) :\n",
    "        #Bootstrap PF:\n",
    "        logNC, testfn, _ = bootstrap_PF(data, theta, potential, propagate, test_fn, N, store_paths=False)\n",
    "        logNC_bpf[r,i], testfn_bpf[r,i] = logNC[-1], testfn[-1]\n",
    "        del logNC, testfn, _\n",
    "        gc.collect()\n",
    "        #alpha SMC:\n",
    "        for (j,C) in enumerate(C_list) :\n",
    "            alpha = d_regular_graph(N, C)\n",
    "            start = time()\n",
    "            logNC, testfn = alphaSMC(data, theta, potential, propagate, test_fn, alpha, \n",
    "                                     permute_alpha=True, show_progress=False)\n",
    "            logNC_alpha[r,i,j], testfn_alpha[r,i,j] = logNC[-1], testfn[-1] \n",
    "            print(\"[rep,N,C] =\", [r+1,N,C], \"in\", round(time() - start, 1), \"seconds\")\n",
    "            del logNC, testfn\n",
    "            gc.collect()"
   ]
  },
  {
   "cell_type": "code",
   "execution_count": null,
   "metadata": {
    "collapsed": true
   },
   "outputs": [],
   "source": [
    "i = 3\n",
    "np.save(\"/home/postdoc/dsen/Desktop/alphaSMC/data/data_OU/logNC_bpf\"+str(i), logNC_bpf)\n",
    "np.save(\"/home/postdoc/dsen/Desktop/alphaSMC/data/data_OU/logNC_alpha\"+str(i), logNC_alpha)\n",
    "np.save(\"/home/postdoc/dsen/Desktop/alphaSMC/data/data_OU/testfn_bpf\"+str(i), testfn_bpf)\n",
    "np.save(\"/home/postdoc/dsen/Desktop/alphaSMC/data/data_OU/testfn_alpha\"+str(i), testfn_alpha)"
   ]
  },
  {
   "cell_type": "code",
   "execution_count": null,
   "metadata": {
    "collapsed": true
   },
   "outputs": [],
   "source": []
  }
 ],
 "metadata": {
  "kernelspec": {
   "display_name": "Python 3",
   "language": "python",
   "name": "python3"
  },
  "language_info": {
   "codemirror_mode": {
    "name": "ipython",
    "version": 3
   },
   "file_extension": ".py",
   "mimetype": "text/x-python",
   "name": "python",
   "nbconvert_exporter": "python",
   "pygments_lexer": "ipython3",
   "version": "3.6.2"
  }
 },
 "nbformat": 4,
 "nbformat_minor": 2
}
