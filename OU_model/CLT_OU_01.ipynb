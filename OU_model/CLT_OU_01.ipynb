{
 "cells": [
  {
   "cell_type": "code",
   "execution_count": 1,
   "metadata": {
    "collapsed": true
   },
   "outputs": [],
   "source": [
    "from __future__ import division\n",
    "%matplotlib inline\n",
    "import numpy as np,  matplotlib.pyplot as plt, sys, gc\n",
    "from time import time\n",
    "from pylab import plot, show, legend\n",
    "sys.path.append('/home/postdoc/dsen/Desktop/alphaSMC')\n",
    "from PF import *\n",
    "sys.path.append('/home/postdoc/dsen/Desktop/alphaSMC/OU_model')\n",
    "from OU import *\n",
    "plt.rcParams['figure.figsize'] = (15.0, 3.0)"
   ]
  },
  {
   "cell_type": "raw",
   "metadata": {},
   "source": [
    "# x_0 = np.asarray([0])\n",
    "# theta = [0.5, 1, 1, 0.2, 1]\n",
    "# T = 100\n",
    "# y, X = simulate_data_OU(theta, x_0, T)\n",
    "# np.save(\"data/y_OU\", y)\n",
    "# np.save(\"data/X_OU\", X)\n",
    "# np.save(\"data/x_0_OU\", x_0)\n",
    "# np.save(\"data/theta_OU\", theta)"
   ]
  },
  {
   "cell_type": "code",
   "execution_count": 2,
   "metadata": {
    "collapsed": true
   },
   "outputs": [],
   "source": [
    "y = np.load(\"/home/postdoc/dsen/Desktop/alphaSMC/data/data_OU/y_OU.npy\")\n",
    "x_0 = np.load(\"/home/postdoc/dsen/Desktop/alphaSMC/data/data_OU/x_0_OU.npy\")\n",
    "theta = np.load(\"/home/postdoc/dsen/Desktop/alphaSMC/data/data_OU/theta_OU.npy\")\n",
    "data = dict(x_0=x_0, y=y)\n",
    "def test_fn(x) : return x\n",
    "propagate, potential = propagate_OU, potential_OU"
   ]
  },
  {
   "cell_type": "code",
   "execution_count": 4,
   "metadata": {
    "scrolled": true
   },
   "outputs": [
    {
     "name": "stdout",
     "output_type": "stream",
     "text": [
      "[N,C] =  [2000, 101]  in  8.0 seconds\n",
      "[N,C] =  [2000, 201]  in  12.8 seconds\n",
      "[N,C] =  [2000, 301]  in  17.6 seconds\n",
      "[N,C] =  [2000, 401]  in  22.5 seconds\n",
      "[N,C] =  [2000, 501]  in  26.2 seconds\n",
      "[N,C] =  [3000, 101]  in  13.9 seconds\n",
      "[N,C] =  [3000, 201]  in  21.1 seconds\n",
      "[N,C] =  [3000, 301]  in  28.0 seconds\n",
      "[N,C] =  [3000, 401]  in  35.0 seconds\n",
      "[N,C] =  [3000, 501]  in  41.6 seconds\n",
      "[N,C] =  [4000, 101]  in  20.7 seconds\n",
      "[N,C] =  [4000, 201]  in  30.5 seconds\n",
      "[N,C] =  [4000, 301]  in  39.7 seconds\n",
      "[N,C] =  [4000, 401]  in  48.6 seconds\n",
      "[N,C] =  [4000, 501]  in  58.4 seconds\n",
      "[N,C] =  [5000, 101]  in  28.7 seconds\n",
      "[N,C] =  [5000, 201]  in  41.0 seconds\n",
      "[N,C] =  [5000, 301]  in  52.6 seconds\n",
      "[N,C] =  [5000, 401]  in  64.7 seconds\n",
      "[N,C] =  [5000, 501]  in  75.7 seconds\n",
      "[N,C] =  [6000, 101]  in  37.5 seconds\n",
      "[N,C] =  [6000, 201]  in  52.2 seconds\n",
      "[N,C] =  [6000, 301]  in  67.0 seconds\n",
      "[N,C] =  [6000, 401]  in  81.7 seconds\n",
      "[N,C] =  [6000, 501]  in  95.2 seconds\n",
      "[N,C] =  [7000, 101]  in  47.3 seconds\n",
      "[N,C] =  [7000, 201]  in  64.7 seconds\n",
      "[N,C] =  [7000, 301]  in  81.7 seconds\n",
      "[N,C] =  [7000, 401]  in  98.6 seconds\n",
      "[N,C] =  [7000, 501]  in  115.3 seconds\n",
      "[N,C] =  [8000, 101]  in  58.5 seconds\n",
      "[N,C] =  [8000, 201]  in  78.6 seconds\n",
      "[N,C] =  [8000, 301]  in  97.7 seconds\n",
      "[N,C] =  [8000, 401]  in  118.9 seconds\n",
      "[N,C] =  [8000, 501]  in  138.0 seconds\n",
      "[N,C] =  [9000, 101]  in  67.0 seconds\n",
      "[N,C] =  [9000, 201]  in  89.7 seconds\n",
      "[N,C] =  [9000, 301]  in  112.6 seconds\n",
      "[N,C] =  [9000, 401]  in  134.7 seconds\n",
      "[N,C] =  [9000, 501]  in  156.9 seconds\n",
      "[N,C] =  [10000, 101]  in  79.6 seconds\n",
      "[N,C] =  [10000, 201]  in  106.2 seconds\n",
      "[N,C] =  [10000, 301]  in  129.8 seconds\n",
      "[N,C] =  [10000, 401]  in  155.2 seconds\n",
      "[N,C] =  [10000, 501]  in  182.6 seconds\n",
      "Total time =  56.6 minutes\n"
     ]
    }
   ],
   "source": [
    "N_list = np.arange(2,11)*1000\n",
    "C_list = 100*np.arange(1,6)+1\n",
    "\n",
    "start_overall = time()\n",
    "for (i,N) in enumerate(N_list) :\n",
    "    for (j,C) in enumerate(C_list) : \n",
    "        alpha = d_regular_graph(N, C)\n",
    "        start = time()\n",
    "        log_NC_aa1, test_fn_est_aa1 = alphaSMC(data, theta, potential, propagate, test_fn, alpha, \n",
    "                                               permute_alpha=True, show_progress=False)\n",
    "        print(\"[N,C] =\", [N,C], \"in \", round(time() - start, 1), \"seconds\")\n",
    "print(\"Total time = \",  round((time()-start_overall)/60, 1), \"minutes\")"
   ]
  },
  {
   "cell_type": "code",
   "execution_count": null,
   "metadata": {
    "scrolled": true
   },
   "outputs": [
    {
     "name": "stdout",
     "output_type": "stream",
     "text": [
      "[rep,N,C] = [1, 2000, 101] in 8.1 seconds\n",
      "[rep,N,C] = [1, 2000, 201] in 15.6 seconds\n",
      "[rep,N,C] = [1, 2000, 301] in 41.0 seconds\n",
      "[rep,N,C] = [1, 2000, 401] in 61.2 seconds\n",
      "[rep,N,C] = [1, 2000, 501] in 75.7 seconds\n",
      "[rep,N,C] = [1, 3000, 101] in 42.4 seconds\n",
      "[rep,N,C] = [1, 3000, 201] in 63.1 seconds\n",
      "[rep,N,C] = [1, 3000, 301] in 81.0 seconds\n",
      "[rep,N,C] = [1, 3000, 401] in 92.9 seconds\n",
      "[rep,N,C] = [1, 3000, 501] in 119.5 seconds\n",
      "[rep,N,C] = [1, 4000, 101] in 67.0 seconds\n",
      "[rep,N,C] = [1, 4000, 201] in 78.0 seconds\n",
      "[rep,N,C] = [1, 4000, 301] in 88.1 seconds\n",
      "[rep,N,C] = [1, 4000, 401] in 108.0 seconds\n",
      "[rep,N,C] = [1, 4000, 501] in 139.2 seconds\n",
      "[rep,N,C] = [1, 5000, 101] in 92.1 seconds\n",
      "[rep,N,C] = [1, 5000, 201] in 129.8 seconds\n",
      "[rep,N,C] = [1, 5000, 301] in 163.2 seconds\n",
      "[rep,N,C] = [1, 5000, 401] in 190.7 seconds\n",
      "[rep,N,C] = [1, 5000, 501] in 226.2 seconds\n",
      "[rep,N,C] = [1, 6000, 101] in 124.3 seconds\n",
      "[rep,N,C] = [1, 6000, 201] in 172.6 seconds\n",
      "[rep,N,C] = [1, 6000, 301] in 196.2 seconds\n",
      "[rep,N,C] = [1, 6000, 401] in 186.7 seconds\n",
      "[rep,N,C] = [1, 6000, 501] in 255.1 seconds\n",
      "[rep,N,C] = [1, 7000, 101] in 159.1 seconds\n",
      "[rep,N,C] = [1, 7000, 201] in 219.8 seconds\n",
      "[rep,N,C] = [1, 7000, 301] in 264.6 seconds\n",
      "[rep,N,C] = [1, 7000, 401] in 240.7 seconds\n",
      "[rep,N,C] = [1, 7000, 501] in 336.7 seconds\n",
      "[rep,N,C] = [1, 8000, 101] in 203.0 seconds\n",
      "[rep,N,C] = [1, 8000, 201] in 270.1 seconds\n",
      "[rep,N,C] = [1, 8000, 301] in 295.1 seconds\n",
      "[rep,N,C] = [1, 8000, 401] in 375.3 seconds\n",
      "[rep,N,C] = [1, 8000, 501] in 423.1 seconds\n",
      "[rep,N,C] = [1, 9000, 101] in 221.3 seconds\n",
      "[rep,N,C] = [1, 9000, 201] in 250.4 seconds\n",
      "[rep,N,C] = [1, 9000, 301] in 394.0 seconds\n",
      "[rep,N,C] = [1, 9000, 401] in 448.4 seconds\n",
      "[rep,N,C] = [1, 9000, 501] in 524.4 seconds\n",
      "[rep,N,C] = [1, 10000, 101] in 298.1 seconds\n",
      "[rep,N,C] = [1, 10000, 201] in 371.5 seconds\n",
      "[rep,N,C] = [1, 10000, 301] in 441.3 seconds\n",
      "[rep,N,C] = [1, 10000, 401] in 529.8 seconds\n",
      "[rep,N,C] = [1, 10000, 501] in 596.7 seconds\n",
      "[rep,N,C] = [2, 2000, 101] in 28.3 seconds\n",
      "[rep,N,C] = [2, 2000, 201] in 44.1 seconds\n",
      "[rep,N,C] = [2, 2000, 301] in 57.6 seconds\n",
      "[rep,N,C] = [2, 2000, 401] in 61.2 seconds\n",
      "[rep,N,C] = [2, 2000, 501] in 84.1 seconds\n",
      "[rep,N,C] = [2, 3000, 101] in 46.9 seconds\n",
      "[rep,N,C] = [2, 3000, 201] in 70.6 seconds\n",
      "[rep,N,C] = [2, 3000, 301] in 90.4 seconds\n",
      "[rep,N,C] = [2, 3000, 401] in 102.4 seconds\n",
      "[rep,N,C] = [2, 3000, 501] in 129.8 seconds\n",
      "[rep,N,C] = [2, 4000, 101] in 68.4 seconds\n",
      "[rep,N,C] = [2, 4000, 201] in 100.3 seconds\n",
      "[rep,N,C] = [2, 4000, 301] in 103.3 seconds\n",
      "[rep,N,C] = [2, 4000, 401] in 115.7 seconds\n",
      "[rep,N,C] = [2, 4000, 501] in 132.7 seconds\n",
      "[rep,N,C] = [2, 5000, 101] in 87.6 seconds\n",
      "[rep,N,C] = [2, 5000, 201] in 97.3 seconds\n",
      "[rep,N,C] = [2, 5000, 301] in 157.7 seconds\n",
      "[rep,N,C] = [2, 5000, 401] in 200.7 seconds\n",
      "[rep,N,C] = [2, 5000, 501] in 232.8 seconds\n",
      "[rep,N,C] = [2, 6000, 101] in 121.7 seconds\n",
      "[rep,N,C] = [2, 6000, 201] in 166.9 seconds\n",
      "[rep,N,C] = [2, 6000, 301] in 194.5 seconds\n",
      "[rep,N,C] = [2, 6000, 401] in 254.6 seconds\n",
      "[rep,N,C] = [2, 6000, 501] in 268.9 seconds\n",
      "[rep,N,C] = [2, 7000, 101] in 120.9 seconds\n",
      "[rep,N,C] = [2, 7000, 201] in 203.9 seconds\n",
      "[rep,N,C] = [2, 7000, 301] in 256.3 seconds\n",
      "[rep,N,C] = [2, 7000, 401] in 319.0 seconds\n"
     ]
    }
   ],
   "source": [
    "N_list = np.arange(2,11)*1000\n",
    "C_list = 100*np.arange(1,6)+1\n",
    "rep = 10\n",
    "logNC_bpf, testfn_bpf = np.zeros((rep,len(N_list))), np.zeros((rep,len(N_list)))\n",
    "logNC_alpha, testfn_alpha = np.zeros((rep,len(N_list),len(C_list))), np.zeros((rep,len(N_list),len(C_list)))\n",
    "\n",
    "start_overall = time()\n",
    "for r in range(rep) :\n",
    "    for (i,N) in enumerate(N_list) :\n",
    "        #Bootstrap PF:\n",
    "        logNC, testfn, _ = bootstrap_PF(data, theta, potential, propagate, test_fn, N, store_paths=False)\n",
    "        logNC_bpf[r,i], testfn_bpf[r,i] = logNC[-1], testfn[-1]\n",
    "        del logNC, testfn, _\n",
    "        gc.collect()\n",
    "        #alpha SMC:\n",
    "        for (j,C) in enumerate(C_list) :\n",
    "            alpha = d_regular_graph(N, C)\n",
    "            start = time()\n",
    "            logNC, testfn = alphaSMC(data, theta, potential, propagate, test_fn, alpha, \n",
    "                                     permute_alpha=True, show_progress=False)\n",
    "            logNC_alpha[r,i,j], testfn_alpha[r,i,j] = logNC[-1], testfn[-1] \n",
    "            print(\"[rep,N,C] =\", [r+1,N,C], \"in\", round(time() - start, 1), \"seconds\")\n",
    "            del logNC, testfn\n",
    "            gc.collect()"
   ]
  },
  {
   "cell_type": "code",
   "execution_count": null,
   "metadata": {
    "collapsed": true
   },
   "outputs": [],
   "source": [
    "i = 1\n",
    "np.save(\"/home/postdoc/dsen/Desktop/alphaSMC/data/data_OU/logNC_bpf\"+str(i), logNC_bpf)\n",
    "np.save(\"/home/postdoc/dsen/Desktop/alphaSMC/data/data_OU/logNC_alpha\"+str(i), logNC_alpha)\n",
    "np.save(\"/home/postdoc/dsen/Desktop/alphaSMC/data/data_OU/testfn_bpf\"+str(i), testfn_bpf)\n",
    "np.save(\"/home/postdoc/dsen/Desktop/alphaSMC/data/data_OU/testfn_alpha\"+str(i), testfn_alpha)"
   ]
  },
  {
   "cell_type": "code",
   "execution_count": 11,
   "metadata": {
    "collapsed": true
   },
   "outputs": [],
   "source": [
    "i = 1\n",
    "logNC_bpf = np.load(\"/home/postdoc/dsen/Desktop/alphaSMC/data/data_OU/logNC_bpf\"+str(i)+\".npy\")\n",
    "logNC_alpha = np.load(\"/home/postdoc/dsen/Desktop/alphaSMC/data/data_OU/logNC_alpha\"+str(i)+\".npy\")\n",
    "# logNC_airpf = np.load(\"/home/postdoc/dsen/Desktop/alphaSMC/data/data_OU/logNC_airpf\"+str(i)+\".npy\")\n",
    "\n",
    "testfn_bpf = np.load(\"/home/postdoc/dsen/Desktop/alphaSMC/data/data_OU/testfn_bpf\"+str(i)+\".npy\")\n",
    "testfn_alpha = np.load(\"/home/postdoc/dsen/Desktop/alphaSMC/data/data_OU/testfn_alpha\"+str(i)+\".npy\")\n",
    "# testfn_airpf = np.load(\"/home/postdoc/dsen/Desktop/alphaSMC/data/data_OU/testfn_airpf\"+str(i)+\".npy\")"
   ]
  },
  {
   "cell_type": "code",
   "execution_count": 12,
   "metadata": {},
   "outputs": [
    {
     "data": {
      "text/plain": [
       "(3, 10)"
      ]
     },
     "execution_count": 12,
     "metadata": {},
     "output_type": "execute_result"
    }
   ],
   "source": [
    "np.shape(testfn_airpf)"
   ]
  },
  {
   "cell_type": "code",
   "execution_count": null,
   "metadata": {
    "collapsed": true
   },
   "outputs": [],
   "source": []
  },
  {
   "cell_type": "code",
   "execution_count": null,
   "metadata": {
    "collapsed": true
   },
   "outputs": [],
   "source": []
  },
  {
   "cell_type": "code",
   "execution_count": null,
   "metadata": {
    "collapsed": true
   },
   "outputs": [],
   "source": [
    "plt.rcParams['figure.figsize'] = (5.0, 4.0)\n",
    "fig, ax = plt.subplots()\n",
    "ax.set_xscale('log', basex=2)\n",
    "ax.plot(N_list, np.sqrt(N_list)*np.std(logNC,1), \"o-\", label=\"empirical variance\")\n",
    "# ax.plot(N_list, 10/np.sqrt(N_list), label=\"Theory\")\n",
    "plt.grid(\"True\")\n",
    "plt.legend()\n",
    "plt.xlabel(\"N\")\n",
    "plt.ylabel(\"Variance\");"
   ]
  },
  {
   "cell_type": "code",
   "execution_count": null,
   "metadata": {
    "collapsed": true
   },
   "outputs": [],
   "source": []
  }
 ],
 "metadata": {
  "kernelspec": {
   "display_name": "Python 3",
   "language": "python",
   "name": "python3"
  },
  "language_info": {
   "codemirror_mode": {
    "name": "ipython",
    "version": 3
   },
   "file_extension": ".py",
   "mimetype": "text/x-python",
   "name": "python",
   "nbconvert_exporter": "python",
   "pygments_lexer": "ipython3",
   "version": "3.6.2"
  }
 },
 "nbformat": 4,
 "nbformat_minor": 2
}
