{
 "cells": [
  {
   "cell_type": "code",
   "execution_count": 1,
   "metadata": {
    "collapsed": true
   },
   "outputs": [],
   "source": [
    "from __future__ import division\n",
    "%matplotlib inline\n",
    "import numpy as np,  matplotlib.pyplot as plt, sys, gc\n",
    "from time import time\n",
    "from pylab import plot, show, legend\n",
    "sys.path.append('/home/postdoc/dsen/Desktop/alphaSMC')\n",
    "from PF import *\n",
    "sys.path.append('/home/postdoc/dsen/Desktop/alphaSMC/OU_model')\n",
    "from OU import *\n",
    "plt.rcParams['figure.figsize'] = (15.0, 3.0)"
   ]
  },
  {
   "cell_type": "code",
   "execution_count": 2,
   "metadata": {
    "collapsed": true
   },
   "outputs": [],
   "source": [
    "y = np.load(\"/home/postdoc/dsen/Desktop/alphaSMC/data/data_OU/y_OU.npy\")\n",
    "x_0 = np.load(\"/home/postdoc/dsen/Desktop/alphaSMC/data/data_OU/x_0_OU.npy\")\n",
    "theta = np.load(\"/home/postdoc/dsen/Desktop/alphaSMC/data/data_OU/theta_OU.npy\")\n",
    "data = dict(x_0=x_0, y=y)\n",
    "def test_fn(x) : return x\n",
    "propagate, potential = propagate_OU, potential_OU"
   ]
  },
  {
   "cell_type": "code",
   "execution_count": null,
   "metadata": {
    "scrolled": true
   },
   "outputs": [
    {
     "name": "stdout",
     "output_type": "stream",
     "text": [
      "[rep,N,C] = [1, 2000, 101] in 9.5 seconds\n",
      "[rep,N,C] = [1, 2000, 201] in 27.4 seconds\n",
      "[rep,N,C] = [1, 2000, 301] in 44.7 seconds\n",
      "[rep,N,C] = [1, 2000, 401] in 62.7 seconds\n",
      "[rep,N,C] = [1, 2000, 501] in 71.5 seconds\n",
      "[rep,N,C] = [1, 3000, 101] in 33.0 seconds\n",
      "[rep,N,C] = [1, 3000, 201] in 62.8 seconds\n",
      "[rep,N,C] = [1, 3000, 301] in 81.0 seconds\n",
      "[rep,N,C] = [1, 3000, 401] in 100.2 seconds\n",
      "[rep,N,C] = [1, 3000, 501] in 110.7 seconds\n",
      "[rep,N,C] = [1, 4000, 101] in 66.3 seconds\n",
      "[rep,N,C] = [1, 4000, 201] in 94.2 seconds\n",
      "[rep,N,C] = [1, 4000, 301] in 118.6 seconds\n",
      "[rep,N,C] = [1, 4000, 401] in 143.8 seconds\n",
      "[rep,N,C] = [1, 4000, 501] in 172.7 seconds\n",
      "[rep,N,C] = [1, 5000, 101] in 94.1 seconds\n",
      "[rep,N,C] = [1, 5000, 201] in 131.8 seconds\n",
      "[rep,N,C] = [1, 5000, 301] in 158.3 seconds\n",
      "[rep,N,C] = [1, 5000, 401] in 197.0 seconds\n",
      "[rep,N,C] = [1, 5000, 501] in 238.8 seconds\n",
      "[rep,N,C] = [1, 6000, 101] in 125.1 seconds\n",
      "[rep,N,C] = [1, 6000, 201] in 154.6 seconds\n",
      "[rep,N,C] = [1, 6000, 301] in 195.7 seconds\n",
      "[rep,N,C] = [1, 6000, 401] in 249.8 seconds\n",
      "[rep,N,C] = [1, 6000, 501] in 268.8 seconds\n",
      "[rep,N,C] = [1, 7000, 101] in 164.8 seconds\n",
      "[rep,N,C] = [1, 7000, 201] in 217.0 seconds\n",
      "[rep,N,C] = [1, 7000, 301] in 263.9 seconds\n",
      "[rep,N,C] = [1, 7000, 401] in 316.2 seconds\n",
      "[rep,N,C] = [1, 7000, 501] in 373.2 seconds\n",
      "[rep,N,C] = [1, 8000, 101] in 198.3 seconds\n",
      "[rep,N,C] = [1, 8000, 201] in 265.0 seconds\n",
      "[rep,N,C] = [1, 8000, 301] in 272.4 seconds\n",
      "[rep,N,C] = [1, 8000, 401] in 338.5 seconds\n",
      "[rep,N,C] = [1, 8000, 501] in 463.3 seconds\n",
      "[rep,N,C] = [1, 9000, 101] in 253.7 seconds\n",
      "[rep,N,C] = [1, 9000, 201] in 313.0 seconds\n",
      "[rep,N,C] = [1, 9000, 301] in 338.5 seconds\n",
      "[rep,N,C] = [1, 9000, 401] in 453.3 seconds\n",
      "[rep,N,C] = [1, 9000, 501] in 544.8 seconds\n",
      "[rep,N,C] = [1, 10000, 101] in 293.1 seconds\n",
      "[rep,N,C] = [1, 10000, 201] in 324.3 seconds\n",
      "[rep,N,C] = [1, 10000, 301] in 440.2 seconds\n",
      "[rep,N,C] = [1, 10000, 401] in 509.2 seconds\n",
      "[rep,N,C] = [1, 10000, 501] in 579.2 seconds\n",
      "[rep,N,C] = [2, 2000, 101] in 27.2 seconds\n",
      "[rep,N,C] = [2, 2000, 201] in 42.5 seconds\n",
      "[rep,N,C] = [2, 2000, 301] in 57.9 seconds\n",
      "[rep,N,C] = [2, 2000, 401] in 70.7 seconds\n",
      "[rep,N,C] = [2, 2000, 501] in 64.9 seconds\n",
      "[rep,N,C] = [2, 3000, 101] in 49.1 seconds\n",
      "[rep,N,C] = [2, 3000, 201] in 69.2 seconds\n",
      "[rep,N,C] = [2, 3000, 301] in 91.3 seconds\n",
      "[rep,N,C] = [2, 3000, 401] in 111.3 seconds\n",
      "[rep,N,C] = [2, 3000, 501] in 129.0 seconds\n",
      "[rep,N,C] = [2, 4000, 101] in 66.3 seconds\n",
      "[rep,N,C] = [2, 4000, 201] in 97.8 seconds\n",
      "[rep,N,C] = [2, 4000, 301] in 124.2 seconds\n",
      "[rep,N,C] = [2, 4000, 401] in 152.0 seconds\n",
      "[rep,N,C] = [2, 4000, 501] in 180.0 seconds\n",
      "[rep,N,C] = [2, 5000, 101] in 78.1 seconds\n",
      "[rep,N,C] = [2, 5000, 201] in 108.0 seconds\n",
      "[rep,N,C] = [2, 5000, 301] in 162.2 seconds\n",
      "[rep,N,C] = [2, 5000, 401] in 180.6 seconds\n",
      "[rep,N,C] = [2, 5000, 501] in 239.1 seconds\n",
      "[rep,N,C] = [2, 6000, 101] in 122.8 seconds\n",
      "[rep,N,C] = [2, 6000, 201] in 168.0 seconds\n",
      "[rep,N,C] = [2, 6000, 301] in 212.8 seconds\n",
      "[rep,N,C] = [2, 6000, 401] in 251.5 seconds\n",
      "[rep,N,C] = [2, 6000, 501] in 227.2 seconds\n",
      "[rep,N,C] = [2, 7000, 101] in 153.3 seconds\n",
      "[rep,N,C] = [2, 7000, 201] in 214.3 seconds\n",
      "[rep,N,C] = [2, 7000, 301]"
     ]
    }
   ],
   "source": [
    "N_list = np.arange(2,11)*1000\n",
    "C_list = 100*np.arange(1,6)+1\n",
    "rep = 10\n",
    "logNC_bpf, testfn_bpf = np.zeros((rep,len(N_list))), np.zeros((rep,len(N_list)))\n",
    "logNC_alpha, testfn_alpha = np.zeros((rep,len(N_list),len(C_list))), np.zeros((rep,len(N_list),len(C_list)))\n",
    "\n",
    "start_overall = time()\n",
    "for r in range(rep) :\n",
    "    for (i,N) in enumerate(N_list) :\n",
    "        #Bootstrap PF:\n",
    "        logNC, testfn, _ = bootstrap_PF(data, theta, potential, propagate, test_fn, N, store_paths=False)\n",
    "        logNC_bpf[r,i], testfn_bpf[r,i] = logNC[-1], testfn[-1]\n",
    "        del logNC, testfn, _\n",
    "        gc.collect()\n",
    "        #alpha SMC:\n",
    "        for (j,C) in enumerate(C_list) :\n",
    "            alpha = d_regular_graph(N, C)\n",
    "            start = time()\n",
    "            logNC, testfn = alphaSMC(data, theta, potential, propagate, test_fn, alpha, \n",
    "                                     permute_alpha=True, show_progress=False)\n",
    "            logNC_alpha[r,i,j], testfn_alpha[r,i,j] = logNC[-1], testfn[-1] \n",
    "            print(\"[rep,N,C] =\", [r+1,N,C], \"in\", round(time() - start, 1), \"seconds\")\n",
    "            del logNC, testfn\n",
    "            gc.collect()"
   ]
  },
  {
   "cell_type": "code",
   "execution_count": null,
   "metadata": {
    "collapsed": true
   },
   "outputs": [],
   "source": [
    "i = 2\n",
    "np.save(\"/home/postdoc/dsen/Desktop/alphaSMC/data/data_OU/logNC_bpf\"+str(i), logNC_bpf)\n",
    "np.save(\"/home/postdoc/dsen/Desktop/alphaSMC/data/data_OU/logNC_alpha\"+str(i), logNC_alpha)\n",
    "np.save(\"/home/postdoc/dsen/Desktop/alphaSMC/data/data_OU/testfn_bpf\"+str(i), testfn_bpf)\n",
    "np.save(\"/home/postdoc/dsen/Desktop/alphaSMC/data/data_OU/testfn_alpha\"+str(i), testfn_alpha)"
   ]
  },
  {
   "cell_type": "code",
   "execution_count": null,
   "metadata": {
    "collapsed": true
   },
   "outputs": [],
   "source": []
  },
  {
   "cell_type": "code",
   "execution_count": null,
   "metadata": {
    "collapsed": true
   },
   "outputs": [],
   "source": []
  }
 ],
 "metadata": {
  "kernelspec": {
   "display_name": "Python 3",
   "language": "python",
   "name": "python3"
  },
  "language_info": {
   "codemirror_mode": {
    "name": "ipython",
    "version": 3
   },
   "file_extension": ".py",
   "mimetype": "text/x-python",
   "name": "python",
   "nbconvert_exporter": "python",
   "pygments_lexer": "ipython3",
   "version": "3.6.2"
  }
 },
 "nbformat": 4,
 "nbformat_minor": 2
}
