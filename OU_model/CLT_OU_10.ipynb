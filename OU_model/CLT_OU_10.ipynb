{
 "cells": [
  {
   "cell_type": "code",
   "execution_count": 1,
   "metadata": {
    "collapsed": true
   },
   "outputs": [],
   "source": [
    "from __future__ import division\n",
    "%matplotlib inline\n",
    "import numpy as np,  matplotlib.pyplot as plt, sys, gc\n",
    "from time import time\n",
    "from pylab import plot, show, legend\n",
    "sys.path.append('/home/postdoc/dsen/Desktop/alphaSMC')\n",
    "from PF import *\n",
    "sys.path.append('/home/postdoc/dsen/Desktop/alphaSMC/OU_model')\n",
    "from OU import *\n",
    "plt.rcParams['figure.figsize'] = (15.0, 3.0)"
   ]
  },
  {
   "cell_type": "code",
   "execution_count": 2,
   "metadata": {
    "collapsed": true
   },
   "outputs": [],
   "source": [
    "y = np.load(\"/home/postdoc/dsen/Desktop/alphaSMC/data/data_OU/y_OU.npy\")\n",
    "x_0 = np.load(\"/home/postdoc/dsen/Desktop/alphaSMC/data/data_OU/x_0_OU.npy\")\n",
    "theta = np.load(\"/home/postdoc/dsen/Desktop/alphaSMC/data/data_OU/theta_OU.npy\")\n",
    "data = dict(x_0=x_0, y=y)\n",
    "def test_fn(x) : return x\n",
    "propagate, potential = propagate_OU, potential_OU"
   ]
  },
  {
   "cell_type": "code",
   "execution_count": null,
   "metadata": {
    "scrolled": true
   },
   "outputs": [
    {
     "name": "stdout",
     "output_type": "stream",
     "text": [
      "[rep,N,C] = [1, 2000, 101] in 24.1 seconds\n",
      "[rep,N,C] = [1, 2000, 201] in 38.2 seconds\n",
      "[rep,N,C] = [1, 2000, 301] in 48.6 seconds\n",
      "[rep,N,C] = [1, 2000, 401] in 63.7 seconds\n",
      "[rep,N,C] = [1, 2000, 501] in 76.3 seconds\n",
      "[rep,N,C] = [1, 3000, 101] in 40.9 seconds\n",
      "[rep,N,C] = [1, 3000, 201] in 62.1 seconds\n",
      "[rep,N,C] = [1, 3000, 301] in 81.2 seconds\n",
      "[rep,N,C] = [1, 3000, 401] in 96.1 seconds\n",
      "[rep,N,C] = [1, 3000, 501] in 94.9 seconds\n",
      "[rep,N,C] = [1, 4000, 101] in 59.8 seconds\n",
      "[rep,N,C] = [1, 4000, 201] in 91.6 seconds\n",
      "[rep,N,C] = [1, 4000, 301] in 120.1 seconds\n",
      "[rep,N,C] = [1, 4000, 401] in 135.7 seconds\n",
      "[rep,N,C] = [1, 4000, 501] in 175.1 seconds\n",
      "[rep,N,C] = [1, 5000, 101] in 94.3 seconds\n",
      "[rep,N,C] = [1, 5000, 201] in 131.3 seconds\n",
      "[rep,N,C] = [1, 5000, 301] in 160.6 seconds\n",
      "[rep,N,C] = [1, 5000, 401] in 199.5 seconds\n",
      "[rep,N,C] = [1, 5000, 501] in 206.6 seconds\n",
      "[rep,N,C] = [1, 6000, 101] in 95.4 seconds\n",
      "[rep,N,C] = [1, 6000, 201] in 152.2 seconds\n",
      "[rep,N,C] = [1, 6000, 301] in 213.2 seconds\n",
      "[rep,N,C] = [1, 6000, 401] in 251.7 seconds\n",
      "[rep,N,C] = [1, 6000, 501] in 305.8 seconds\n",
      "[rep,N,C] = [1, 7000, 101] in 160.8 seconds\n",
      "[rep,N,C] = [1, 7000, 201] in 216.0 seconds\n",
      "[rep,N,C] = [1, 7000, 301] in 259.5 seconds\n",
      "[rep,N,C] = [1, 7000, 401] in 315.3 seconds\n",
      "[rep,N,C] = [1, 7000, 501] in 386.2 seconds\n",
      "[rep,N,C] = [1, 8000, 101] in 203.8 seconds\n",
      "[rep,N,C] = [1, 8000, 201] in 258.7 seconds\n",
      "[rep,N,C] = [1, 8000, 301] in 313.9 seconds\n",
      "[rep,N,C] = [1, 8000, 401] in 379.3 seconds\n",
      "[rep,N,C] = [1, 8000, 501] in 445.1 seconds\n",
      "[rep,N,C] = [1, 9000, 101] in 187.9 seconds\n",
      "[rep,N,C] = [1, 9000, 201] in 273.5 seconds\n",
      "[rep,N,C] = [1, 9000, 301] in 347.1 seconds\n",
      "[rep,N,C] = [1, 9000, 401] in 408.9 seconds\n",
      "[rep,N,C] = [1, 9000, 501] in 494.1 seconds\n",
      "[rep,N,C] = [1, 10000, 101] in 233.2 seconds\n",
      "[rep,N,C] = [1, 10000, 201] in 380.8 seconds\n",
      "[rep,N,C] = [1, 10000, 301] in 338.8 seconds\n",
      "[rep,N,C] = [1, 10000, 401] in 471.2 seconds\n",
      "[rep,N,C] = [1, 10000, 501] in 481.7 seconds\n",
      "[rep,N,C] = [2, 2000, 101] in 29.0 seconds\n",
      "[rep,N,C] = [2, 2000, 201] in 43.6 seconds\n",
      "[rep,N,C] = [2, 2000, 301] in 58.1 seconds\n",
      "[rep,N,C] = [2, 2000, 401] in 58.4 seconds\n",
      "[rep,N,C] = [2, 2000, 501] in 75.3 seconds\n",
      "[rep,N,C] = [2, 3000, 101] in 47.8 seconds\n",
      "[rep,N,C] = [2, 3000, 201] in 69.2 seconds\n",
      "[rep,N,C] = [2, 3000, 301] in 92.2 seconds\n",
      "[rep,N,C] = [2, 3000, 401] in 111.1 seconds\n",
      "[rep,N,C] = [2, 3000, 501] in 127.4 seconds\n",
      "[rep,N,C] = [2, 4000, 101] in 69.7 seconds\n",
      "[rep,N,C] = [2, 4000, 201] in 101.7 seconds\n",
      "[rep,N,C] = [2, 4000, 301] in 128.6 seconds\n",
      "[rep,N,C] = [2, 4000, 401] in 152.6 seconds\n",
      "[rep,N,C] = [2, 4000, 501] in 159.8 seconds\n",
      "[rep,N,C] = [2, 5000, 101] in 78.9 seconds\n",
      "[rep,N,C] = [2, 5000, 201] in 130.7 seconds\n",
      "[rep,N,C] = [2, 5000, 301] in 162.7 seconds\n",
      "[rep,N,C] = [2, 5000, 401] in 194.2 seconds\n",
      "[rep,N,C] = [2, 5000, 501] in 191.5 seconds\n",
      "[rep,N,C] = [2, 6000, 101] in 111.4 seconds\n",
      "[rep,N,C] = [2, 6000, 201] in 168.6 seconds\n",
      "[rep,N,C] = [2, 6000, 301] in 214.6 seconds\n",
      "[rep,N,C] = [2, 6000, 401] in 255.9 seconds\n",
      "[rep,N,C] = [2, 6000, 501] in 305.0 seconds\n",
      "[rep,N,C] = [2, 7000, 101] in 129.3 seconds\n",
      "[rep,N,C] = [2, 7000, 201] in 162.3 seconds\n",
      "[rep,N,C] = [2, 7000, 301] in 248.3 seconds\n",
      "[rep,N,C] = [2, 7000, 401] in 317.7 seconds\n"
     ]
    }
   ],
   "source": [
    "N_list = np.arange(2,11)*1000\n",
    "C_list = 100*np.arange(1,6)+1\n",
    "rep = 10\n",
    "logNC_bpf, testfn_bpf = np.zeros((rep,len(N_list))), np.zeros((rep,len(N_list)))\n",
    "logNC_alpha, testfn_alpha = np.zeros((rep,len(N_list),len(C_list))), np.zeros((rep,len(N_list),len(C_list)))\n",
    "\n",
    "start_overall = time()\n",
    "for r in range(rep) :\n",
    "    for (i,N) in enumerate(N_list) :\n",
    "        #Bootstrap PF:\n",
    "        logNC, testfn, _ = bootstrap_PF(data, theta, potential, propagate, test_fn, N, store_paths=False)\n",
    "        logNC_bpf[r,i], testfn_bpf[r,i] = logNC[-1], testfn[-1]\n",
    "        del logNC, testfn, _\n",
    "        gc.collect()\n",
    "        #alpha SMC:\n",
    "        for (j,C) in enumerate(C_list) :\n",
    "            alpha = d_regular_graph(N, C)\n",
    "            start = time()\n",
    "            logNC, testfn = alphaSMC(data, theta, potential, propagate, test_fn, alpha, \n",
    "                                     permute_alpha=True, show_progress=False)\n",
    "            logNC_alpha[r,i,j], testfn_alpha[r,i,j] = logNC[-1], testfn[-1] \n",
    "            print(\"[rep,N,C] =\", [r+1,N,C], \"in\", round(time() - start, 1), \"seconds\")\n",
    "            del logNC, testfn\n",
    "            gc.collect()"
   ]
  },
  {
   "cell_type": "code",
   "execution_count": null,
   "metadata": {
    "collapsed": true
   },
   "outputs": [],
   "source": [
    "i = 10\n",
    "np.save(\"/home/postdoc/dsen/Desktop/alphaSMC/data/data_OU/logNC_bpf\"+str(i), logNC_bpf)\n",
    "np.save(\"/home/postdoc/dsen/Desktop/alphaSMC/data/data_OU/logNC_alpha\"+str(i), logNC_alpha)\n",
    "np.save(\"/home/postdoc/dsen/Desktop/alphaSMC/data/data_OU/testfn_bpf\"+str(i), testfn_bpf)\n",
    "np.save(\"/home/postdoc/dsen/Desktop/alphaSMC/data/data_OU/testfn_alpha\"+str(i), testfn_alpha)"
   ]
  },
  {
   "cell_type": "code",
   "execution_count": null,
   "metadata": {
    "collapsed": true
   },
   "outputs": [],
   "source": []
  }
 ],
 "metadata": {
  "kernelspec": {
   "display_name": "Python 3",
   "language": "python",
   "name": "python3"
  },
  "language_info": {
   "codemirror_mode": {
    "name": "ipython",
    "version": 3
   },
   "file_extension": ".py",
   "mimetype": "text/x-python",
   "name": "python",
   "nbconvert_exporter": "python",
   "pygments_lexer": "ipython3",
   "version": "3.6.2"
  }
 },
 "nbformat": 4,
 "nbformat_minor": 2
}
