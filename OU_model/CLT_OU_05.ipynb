{
 "cells": [
  {
   "cell_type": "code",
   "execution_count": 1,
   "metadata": {
    "collapsed": true
   },
   "outputs": [],
   "source": [
    "from __future__ import division\n",
    "%matplotlib inline\n",
    "import numpy as np,  matplotlib.pyplot as plt, sys, gc\n",
    "from time import time\n",
    "from pylab import plot, show, legend\n",
    "sys.path.append('/home/postdoc/dsen/Desktop/alphaSMC')\n",
    "from PF import *\n",
    "sys.path.append('/home/postdoc/dsen/Desktop/alphaSMC/OU_model')\n",
    "from OU import *\n",
    "plt.rcParams['figure.figsize'] = (15.0, 3.0)"
   ]
  },
  {
   "cell_type": "code",
   "execution_count": 2,
   "metadata": {
    "collapsed": true
   },
   "outputs": [],
   "source": [
    "y = np.load(\"/home/postdoc/dsen/Desktop/alphaSMC/data/data_OU/y_OU.npy\")\n",
    "x_0 = np.load(\"/home/postdoc/dsen/Desktop/alphaSMC/data/data_OU/x_0_OU.npy\")\n",
    "theta = np.load(\"/home/postdoc/dsen/Desktop/alphaSMC/data/data_OU/theta_OU.npy\")\n",
    "data = dict(x_0=x_0, y=y)\n",
    "def test_fn(x) : return x\n",
    "propagate, potential = propagate_OU, potential_OU"
   ]
  },
  {
   "cell_type": "code",
   "execution_count": null,
   "metadata": {
    "scrolled": true
   },
   "outputs": [
    {
     "name": "stdout",
     "output_type": "stream",
     "text": [
      "[rep,N,C] = [1, 2000, 101] in 17.0 seconds\n",
      "[rep,N,C] = [1, 2000, 201] in 38.4 seconds\n",
      "[rep,N,C] = [1, 2000, 301] in 42.1 seconds\n",
      "[rep,N,C] = [1, 2000, 401] in 47.6 seconds\n",
      "[rep,N,C] = [1, 2000, 501] in 72.3 seconds\n",
      "[rep,N,C] = [1, 3000, 101] in 43.0 seconds\n",
      "[rep,N,C] = [1, 3000, 201] in 61.1 seconds\n",
      "[rep,N,C] = [1, 3000, 301] in 82.1 seconds\n",
      "[rep,N,C] = [1, 3000, 401] in 101.4 seconds\n",
      "[rep,N,C] = [1, 3000, 501] in 109.3 seconds\n",
      "[rep,N,C] = [1, 4000, 101] in 60.3 seconds\n",
      "[rep,N,C] = [1, 4000, 201] in 93.2 seconds\n",
      "[rep,N,C] = [1, 4000, 301] in 119.3 seconds\n",
      "[rep,N,C] = [1, 4000, 401] in 142.7 seconds\n",
      "[rep,N,C] = [1, 4000, 501] in 176.3 seconds\n",
      "[rep,N,C] = [1, 5000, 101] in 92.8 seconds\n",
      "[rep,N,C] = [1, 5000, 201] in 130.7 seconds\n",
      "[rep,N,C] = [1, 5000, 301] in 159.7 seconds\n",
      "[rep,N,C] = [1, 5000, 401] in 189.7 seconds\n",
      "[rep,N,C] = [1, 5000, 501] in 188.8 seconds\n",
      "[rep,N,C] = [1, 6000, 101] in 126.0 seconds\n",
      "[rep,N,C] = [1, 6000, 201] in 128.2 seconds\n",
      "[rep,N,C] = [1, 6000, 301] in 209.4 seconds\n",
      "[rep,N,C] = [1, 6000, 401] in 184.2 seconds\n",
      "[rep,N,C] = [1, 6000, 501] in 223.0 seconds\n",
      "[rep,N,C] = [1, 7000, 101] in 157.9 seconds\n",
      "[rep,N,C] = [1, 7000, 201] in 177.1 seconds\n",
      "[rep,N,C] = [1, 7000, 301] in 201.5 seconds\n",
      "[rep,N,C] = [1, 7000, 401] in 285.7 seconds\n",
      "[rep,N,C] = [1, 7000, 501] in 357.0 seconds\n",
      "[rep,N,C] = [1, 8000, 101] in 194.0 seconds\n",
      "[rep,N,C] = [1, 8000, 201] in 204.5 seconds\n",
      "[rep,N,C] = [1, 8000, 301] in 295.6 seconds\n",
      "[rep,N,C] = [1, 8000, 401] in 378.8 seconds\n",
      "[rep,N,C] = [1, 8000, 501] in 383.9 seconds\n",
      "[rep,N,C] = [1, 9000, 101] in 236.1 seconds\n",
      "[rep,N,C] = [1, 9000, 201] in 318.1 seconds\n",
      "[rep,N,C] = [1, 9000, 301] in 330.0 seconds\n",
      "[rep,N,C] = [1, 9000, 401] in 361.7 seconds\n",
      "[rep,N,C] = [1, 9000, 501] in 521.6 seconds\n",
      "[rep,N,C] = [1, 10000, 101] in 280.8 seconds\n",
      "[rep,N,C] = [1, 10000, 201] in 390.4 seconds\n",
      "[rep,N,C] = [1, 10000, 301] in 459.8 seconds\n",
      "[rep,N,C] = [1, 10000, 401] in 524.0 seconds\n",
      "[rep,N,C] = [1, 10000, 501] in 596.3 seconds\n",
      "[rep,N,C] = [2, 2000, 101] in 28.9 seconds\n",
      "[rep,N,C] = [2, 2000, 201] in 45.3 seconds\n",
      "[rep,N,C] = [2, 2000, 301] in 58.2 seconds\n",
      "[rep,N,C] = [2, 2000, 401] in 71.5 seconds\n",
      "[rep,N,C] = [2, 2000, 501] in 83.9 seconds\n",
      "[rep,N,C] = [2, 3000, 101] in 48.4 seconds\n",
      "[rep,N,C] = [2, 3000, 201] in 70.6 seconds\n",
      "[rep,N,C] = [2, 3000, 301] in 91.6 seconds\n",
      "[rep,N,C] = [2, 3000, 401] in 83.1 seconds\n",
      "[rep,N,C] = [2, 3000, 501] in 106.2 seconds\n",
      "[rep,N,C] = [2, 4000, 101] in 68.4 seconds\n",
      "[rep,N,C] = [2, 4000, 201] in 98.5 seconds\n",
      "[rep,N,C] = [2, 4000, 301] in 127.9 seconds\n",
      "[rep,N,C] = [2, 4000, 401] in 154.6 seconds\n",
      "[rep,N,C] = [2, 4000, 501] in 136.8 seconds\n",
      "[rep,N,C] = [2, 5000, 101] in 81.0 seconds\n",
      "[rep,N,C] = [2, 5000, 201] in 130.5 seconds\n",
      "[rep,N,C] = [2, 5000, 301] in 165.3 seconds\n",
      "[rep,N,C] = [2, 5000, 401] in 203.5 seconds\n",
      "[rep,N,C] = [2, 5000, 501] in 231.0 seconds\n",
      "[rep,N,C] = [2, 6000, 101] in 123.7 seconds\n",
      "[rep,N,C] = [2, 6000, 201] in 148.7 seconds\n",
      "[rep,N,C] = [2, 6000, 301] in 208.2 seconds\n",
      "[rep,N,C] = [2, 6000, 401] in 255.3 seconds\n",
      "[rep,N,C] = [2, 6000, 501] in 260.1 seconds\n",
      "[rep,N,C] = [2, 7000, 101] in 159.4 seconds\n",
      "[rep,N,C] = [2, 7000, 201] in 214.9 seconds\n",
      "[rep,N,C] = [2, 7000, 301] in 267.3 seconds\n",
      "[rep,N,C] = [2, 7000, 401] in 319.0 seconds\n"
     ]
    }
   ],
   "source": [
    "N_list = np.arange(2,11)*1000\n",
    "C_list = 100*np.arange(1,6)+1\n",
    "rep = 10\n",
    "logNC_bpf, testfn_bpf = np.zeros((rep,len(N_list))), np.zeros((rep,len(N_list)))\n",
    "logNC_alpha, testfn_alpha = np.zeros((rep,len(N_list),len(C_list))), np.zeros((rep,len(N_list),len(C_list)))\n",
    "\n",
    "start_overall = time()\n",
    "for r in range(rep) :\n",
    "    for (i,N) in enumerate(N_list) :\n",
    "        #Bootstrap PF:\n",
    "        logNC, testfn, _ = bootstrap_PF(data, theta, potential, propagate, test_fn, N, store_paths=False)\n",
    "        logNC_bpf[r,i], testfn_bpf[r,i] = logNC[-1], testfn[-1]\n",
    "        del logNC, testfn, _\n",
    "        gc.collect()\n",
    "        #alpha SMC:\n",
    "        for (j,C) in enumerate(C_list) :\n",
    "            alpha = d_regular_graph(N, C)\n",
    "            start = time()\n",
    "            logNC, testfn = alphaSMC(data, theta, potential, propagate, test_fn, alpha, \n",
    "                                     permute_alpha=True, show_progress=False)\n",
    "            logNC_alpha[r,i,j], testfn_alpha[r,i,j] = logNC[-1], testfn[-1] \n",
    "            print(\"[rep,N,C] =\", [r+1,N,C], \"in\", round(time() - start, 1), \"seconds\")\n",
    "            del logNC, testfn\n",
    "            gc.collect()"
   ]
  },
  {
   "cell_type": "code",
   "execution_count": null,
   "metadata": {
    "collapsed": true
   },
   "outputs": [],
   "source": [
    "i = 5\n",
    "np.save(\"/home/postdoc/dsen/Desktop/alphaSMC/data/data_OU/logNC_bpf\"+str(i), logNC_bpf)\n",
    "np.save(\"/home/postdoc/dsen/Desktop/alphaSMC/data/data_OU/logNC_alpha\"+str(i), logNC_alpha)\n",
    "np.save(\"/home/postdoc/dsen/Desktop/alphaSMC/data/data_OU/testfn_bpf\"+str(i), testfn_bpf)\n",
    "np.save(\"/home/postdoc/dsen/Desktop/alphaSMC/data/data_OU/testfn_alpha\"+str(i), testfn_alpha)"
   ]
  },
  {
   "cell_type": "code",
   "execution_count": null,
   "metadata": {
    "collapsed": true
   },
   "outputs": [],
   "source": []
  }
 ],
 "metadata": {
  "kernelspec": {
   "display_name": "Python 3",
   "language": "python",
   "name": "python3"
  },
  "language_info": {
   "codemirror_mode": {
    "name": "ipython",
    "version": 3
   },
   "file_extension": ".py",
   "mimetype": "text/x-python",
   "name": "python",
   "nbconvert_exporter": "python",
   "pygments_lexer": "ipython3",
   "version": "3.6.2"
  }
 },
 "nbformat": 4,
 "nbformat_minor": 2
}
